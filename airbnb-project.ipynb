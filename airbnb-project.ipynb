{
 "cells": [
  {
   "cell_type": "code",
   "execution_count": 1,
   "id": "29166f0d",
   "metadata": {
    "_cell_guid": "b1076dfc-b9ad-4769-8c92-a6c4dae69d19",
    "_uuid": "8f2839f25d086af736a60e9eeb907d3b93b6e0e5",
    "execution": {
     "iopub.execute_input": "2025-05-12T12:03:35.586359Z",
     "iopub.status.busy": "2025-05-12T12:03:35.586161Z",
     "iopub.status.idle": "2025-05-12T12:03:37.060462Z",
     "shell.execute_reply": "2025-05-12T12:03:37.059511Z"
    },
    "papermill": {
     "duration": 1.485072,
     "end_time": "2025-05-12T12:03:37.062261",
     "exception": false,
     "start_time": "2025-05-12T12:03:35.577189",
     "status": "completed"
    },
    "tags": []
   },
   "outputs": [
    {
     "name": "stdout",
     "output_type": "stream",
     "text": [
      "/kaggle/input/airbnb-listings-reviews/Airbnb Data/Listings.csv\n",
      "/kaggle/input/airbnb-listings-reviews/Airbnb Data/Reviews.csv\n",
      "/kaggle/input/airbnb-listings-reviews/Airbnb Data/Reviews_data_dictionary.csv\n",
      "/kaggle/input/airbnb-listings-reviews/Airbnb Data/Listings_data_dictionary.csv\n"
     ]
    }
   ],
   "source": [
    "# This Python 3 environment comes with many helpful analytics libraries installed\n",
    "# It is defined by the kaggle/python Docker image: https://github.com/kaggle/docker-python\n",
    "# For example, here's several helpful packages to load\n",
    "\n",
    "import numpy as np # linear algebra\n",
    "import pandas as pd # data processing, CSV file I/O (e.g. pd.read_csv)\n",
    "\n",
    "# Input data files are available in the read-only \"../input/\" directory\n",
    "# For example, running this (by clicking run or pressing Shift+Enter) will list all files under the input directory\n",
    "\n",
    "import os\n",
    "for dirname, _, filenames in os.walk('/kaggle/input'):\n",
    "    for filename in filenames:\n",
    "        print(os.path.join(dirname, filename))\n",
    "\n",
    "# You can write up to 20GB to the current directory (/kaggle/working/) that gets preserved as output when you create a version using \"Save & Run All\" \n",
    "# You can also write temporary files to /kaggle/temp/, but they won't be saved outside of the current session"
   ]
  },
  {
   "cell_type": "markdown",
   "id": "aea4935c",
   "metadata": {
    "execution": {
     "iopub.execute_input": "2025-05-11T05:13:03.202358Z",
     "iopub.status.busy": "2025-05-11T05:13:03.201664Z",
     "iopub.status.idle": "2025-05-11T05:13:03.207629Z",
     "shell.execute_reply": "2025-05-11T05:13:03.206576Z",
     "shell.execute_reply.started": "2025-05-11T05:13:03.202331Z"
    },
    "papermill": {
     "duration": 0.008597,
     "end_time": "2025-05-12T12:03:37.086938",
     "exception": false,
     "start_time": "2025-05-12T12:03:37.078341",
     "status": "completed"
    },
    "tags": []
   },
   "source": [
    "<div style=\"background-color: #f88379; padding: 25px; border-radius: 10px;font-size:20px;font-weight:10px\">\n",
    "  <h1 style=\"color: #333;\"><strong>AirBnB Listings and reviews</strong></h1>\n",
    "</div>"
   ]
  },
  {
   "cell_type": "markdown",
   "id": "68b92999",
   "metadata": {
    "papermill": {
     "duration": 0.006904,
     "end_time": "2025-05-12T12:03:37.101029",
     "exception": false,
     "start_time": "2025-05-12T12:03:37.094125",
     "status": "completed"
    },
    "tags": []
   },
   "source": [
    "<img src=\"https://www.spinxdigital.com/app/uploads/2022/11/image-airbnb.jpg\" width=1200>"
   ]
  },
  {
   "cell_type": "markdown",
   "id": "573e49a7",
   "metadata": {
    "execution": {
     "iopub.execute_input": "2025-05-12T04:48:25.571113Z",
     "iopub.status.busy": "2025-05-12T04:48:25.570429Z",
     "iopub.status.idle": "2025-05-12T04:48:25.578237Z",
     "shell.execute_reply": "2025-05-12T04:48:25.577355Z",
     "shell.execute_reply.started": "2025-05-12T04:48:25.571087Z"
    },
    "papermill": {
     "duration": 0.006889,
     "end_time": "2025-05-12T12:03:37.114915",
     "exception": false,
     "start_time": "2025-05-12T12:03:37.108026",
     "status": "completed"
    },
    "tags": []
   },
   "source": [
    "<div style=\"background-color: #0000; padding: 20px; border-radius: 10px;font-size:25px;font-weight:10px\">\n",
    "  <h1 style=\"color: #333;\"><strong>Exploratory Data Analysis</strong></h1>\n",
    "</div>"
   ]
  },
  {
   "cell_type": "code",
   "execution_count": 2,
   "id": "2ff68597",
   "metadata": {
    "execution": {
     "iopub.execute_input": "2025-05-12T12:03:37.130759Z",
     "iopub.status.busy": "2025-05-12T12:03:37.130097Z",
     "iopub.status.idle": "2025-05-12T12:03:37.147084Z",
     "shell.execute_reply": "2025-05-12T12:03:37.146465Z"
    },
    "papermill": {
     "duration": 0.026254,
     "end_time": "2025-05-12T12:03:37.148152",
     "exception": false,
     "start_time": "2025-05-12T12:03:37.121898",
     "status": "completed"
    },
    "tags": []
   },
   "outputs": [],
   "source": [
    "reviews_dict = pd.read_csv(r\"/kaggle/input/airbnb-listings-reviews/Airbnb Data/Reviews_data_dictionary.csv\")\n"
   ]
  },
  {
   "cell_type": "code",
   "execution_count": 3,
   "id": "b1bde498",
   "metadata": {
    "execution": {
     "iopub.execute_input": "2025-05-12T12:03:37.163546Z",
     "iopub.status.busy": "2025-05-12T12:03:37.163050Z",
     "iopub.status.idle": "2025-05-12T12:03:37.185308Z",
     "shell.execute_reply": "2025-05-12T12:03:37.184675Z"
    },
    "papermill": {
     "duration": 0.031049,
     "end_time": "2025-05-12T12:03:37.186373",
     "exception": false,
     "start_time": "2025-05-12T12:03:37.155324",
     "status": "completed"
    },
    "tags": []
   },
   "outputs": [
    {
     "data": {
      "text/html": [
       "<div>\n",
       "<style scoped>\n",
       "    .dataframe tbody tr th:only-of-type {\n",
       "        vertical-align: middle;\n",
       "    }\n",
       "\n",
       "    .dataframe tbody tr th {\n",
       "        vertical-align: top;\n",
       "    }\n",
       "\n",
       "    .dataframe thead th {\n",
       "        text-align: right;\n",
       "    }\n",
       "</style>\n",
       "<table border=\"1\" class=\"dataframe\">\n",
       "  <thead>\n",
       "    <tr style=\"text-align: right;\">\n",
       "      <th></th>\n",
       "      <th>Field</th>\n",
       "      <th>Description</th>\n",
       "    </tr>\n",
       "  </thead>\n",
       "  <tbody>\n",
       "    <tr>\n",
       "      <th>0</th>\n",
       "      <td>listing_id</td>\n",
       "      <td>Listing ID</td>\n",
       "    </tr>\n",
       "    <tr>\n",
       "      <th>1</th>\n",
       "      <td>review_id</td>\n",
       "      <td>Review ID</td>\n",
       "    </tr>\n",
       "    <tr>\n",
       "      <th>2</th>\n",
       "      <td>date</td>\n",
       "      <td>Review date</td>\n",
       "    </tr>\n",
       "    <tr>\n",
       "      <th>3</th>\n",
       "      <td>reviewer_id</td>\n",
       "      <td>Reviewer ID</td>\n",
       "    </tr>\n",
       "  </tbody>\n",
       "</table>\n",
       "</div>"
      ],
      "text/plain": [
       "         Field  Description\n",
       "0   listing_id   Listing ID\n",
       "1    review_id    Review ID\n",
       "2         date  Review date\n",
       "3  reviewer_id  Reviewer ID"
      ]
     },
     "execution_count": 3,
     "metadata": {},
     "output_type": "execute_result"
    }
   ],
   "source": [
    "reviews_dict"
   ]
  },
  {
   "cell_type": "code",
   "execution_count": 4,
   "id": "8383279a",
   "metadata": {
    "execution": {
     "iopub.execute_input": "2025-05-12T12:03:37.201979Z",
     "iopub.status.busy": "2025-05-12T12:03:37.201495Z",
     "iopub.status.idle": "2025-05-12T12:03:41.876023Z",
     "shell.execute_reply": "2025-05-12T12:03:41.875386Z"
    },
    "papermill": {
     "duration": 4.68368,
     "end_time": "2025-05-12T12:03:41.877339",
     "exception": false,
     "start_time": "2025-05-12T12:03:37.193659",
     "status": "completed"
    },
    "tags": []
   },
   "outputs": [],
   "source": [
    "reviews =pd.read_csv(r\"/kaggle/input/airbnb-listings-reviews/Airbnb Data/Reviews.csv\")"
   ]
  },
  {
   "cell_type": "code",
   "execution_count": 5,
   "id": "f152cc44",
   "metadata": {
    "execution": {
     "iopub.execute_input": "2025-05-12T12:03:41.893284Z",
     "iopub.status.busy": "2025-05-12T12:03:41.893058Z",
     "iopub.status.idle": "2025-05-12T12:03:41.905727Z",
     "shell.execute_reply": "2025-05-12T12:03:41.905136Z"
    },
    "papermill": {
     "duration": 0.021764,
     "end_time": "2025-05-12T12:03:41.906898",
     "exception": false,
     "start_time": "2025-05-12T12:03:41.885134",
     "status": "completed"
    },
    "tags": []
   },
   "outputs": [
    {
     "data": {
      "text/html": [
       "<div>\n",
       "<style scoped>\n",
       "    .dataframe tbody tr th:only-of-type {\n",
       "        vertical-align: middle;\n",
       "    }\n",
       "\n",
       "    .dataframe tbody tr th {\n",
       "        vertical-align: top;\n",
       "    }\n",
       "\n",
       "    .dataframe thead th {\n",
       "        text-align: right;\n",
       "    }\n",
       "</style>\n",
       "<table border=\"1\" class=\"dataframe\">\n",
       "  <thead>\n",
       "    <tr style=\"text-align: right;\">\n",
       "      <th></th>\n",
       "      <th>listing_id</th>\n",
       "      <th>review_id</th>\n",
       "      <th>date</th>\n",
       "      <th>reviewer_id</th>\n",
       "    </tr>\n",
       "  </thead>\n",
       "  <tbody>\n",
       "    <tr>\n",
       "      <th>0</th>\n",
       "      <td>11798</td>\n",
       "      <td>330265172</td>\n",
       "      <td>2018-09-30</td>\n",
       "      <td>11863072</td>\n",
       "    </tr>\n",
       "    <tr>\n",
       "      <th>1</th>\n",
       "      <td>15383</td>\n",
       "      <td>330103585</td>\n",
       "      <td>2018-09-30</td>\n",
       "      <td>39147453</td>\n",
       "    </tr>\n",
       "    <tr>\n",
       "      <th>2</th>\n",
       "      <td>16455</td>\n",
       "      <td>329985788</td>\n",
       "      <td>2018-09-30</td>\n",
       "      <td>1125378</td>\n",
       "    </tr>\n",
       "    <tr>\n",
       "      <th>3</th>\n",
       "      <td>17919</td>\n",
       "      <td>330016899</td>\n",
       "      <td>2018-09-30</td>\n",
       "      <td>172717984</td>\n",
       "    </tr>\n",
       "    <tr>\n",
       "      <th>4</th>\n",
       "      <td>26827</td>\n",
       "      <td>329995638</td>\n",
       "      <td>2018-09-30</td>\n",
       "      <td>17542859</td>\n",
       "    </tr>\n",
       "    <tr>\n",
       "      <th>...</th>\n",
       "      <td>...</td>\n",
       "      <td>...</td>\n",
       "      <td>...</td>\n",
       "      <td>...</td>\n",
       "    </tr>\n",
       "    <tr>\n",
       "      <th>5373138</th>\n",
       "      <td>47779342</td>\n",
       "      <td>726766332</td>\n",
       "      <td>2021-01-25</td>\n",
       "      <td>283094516</td>\n",
       "    </tr>\n",
       "    <tr>\n",
       "      <th>5373139</th>\n",
       "      <td>47823964</td>\n",
       "      <td>727963021</td>\n",
       "      <td>2021-01-31</td>\n",
       "      <td>76411977</td>\n",
       "    </tr>\n",
       "    <tr>\n",
       "      <th>5373140</th>\n",
       "      <td>47896175</td>\n",
       "      <td>728548625</td>\n",
       "      <td>2021-02-02</td>\n",
       "      <td>71370946</td>\n",
       "    </tr>\n",
       "    <tr>\n",
       "      <th>5373141</th>\n",
       "      <td>47900451</td>\n",
       "      <td>727399287</td>\n",
       "      <td>2021-01-29</td>\n",
       "      <td>109011160</td>\n",
       "    </tr>\n",
       "    <tr>\n",
       "      <th>5373142</th>\n",
       "      <td>47998038</td>\n",
       "      <td>730320626</td>\n",
       "      <td>2021-02-11</td>\n",
       "      <td>276790978</td>\n",
       "    </tr>\n",
       "  </tbody>\n",
       "</table>\n",
       "<p>5373143 rows × 4 columns</p>\n",
       "</div>"
      ],
      "text/plain": [
       "         listing_id  review_id        date  reviewer_id\n",
       "0             11798  330265172  2018-09-30     11863072\n",
       "1             15383  330103585  2018-09-30     39147453\n",
       "2             16455  329985788  2018-09-30      1125378\n",
       "3             17919  330016899  2018-09-30    172717984\n",
       "4             26827  329995638  2018-09-30     17542859\n",
       "...             ...        ...         ...          ...\n",
       "5373138    47779342  726766332  2021-01-25    283094516\n",
       "5373139    47823964  727963021  2021-01-31     76411977\n",
       "5373140    47896175  728548625  2021-02-02     71370946\n",
       "5373141    47900451  727399287  2021-01-29    109011160\n",
       "5373142    47998038  730320626  2021-02-11    276790978\n",
       "\n",
       "[5373143 rows x 4 columns]"
      ]
     },
     "execution_count": 5,
     "metadata": {},
     "output_type": "execute_result"
    }
   ],
   "source": [
    "reviews"
   ]
  },
  {
   "cell_type": "code",
   "execution_count": 6,
   "id": "3528b4e3",
   "metadata": {
    "execution": {
     "iopub.execute_input": "2025-05-12T12:03:41.922659Z",
     "iopub.status.busy": "2025-05-12T12:03:41.922462Z",
     "iopub.status.idle": "2025-05-12T12:03:41.944232Z",
     "shell.execute_reply": "2025-05-12T12:03:41.943757Z"
    },
    "papermill": {
     "duration": 0.030765,
     "end_time": "2025-05-12T12:03:41.945329",
     "exception": false,
     "start_time": "2025-05-12T12:03:41.914564",
     "status": "completed"
    },
    "tags": []
   },
   "outputs": [],
   "source": [
    "listing_dist = pd.read_csv(r\"/kaggle/input/airbnb-listings-reviews/Airbnb Data/Listings_data_dictionary.csv\")"
   ]
  },
  {
   "cell_type": "code",
   "execution_count": 7,
   "id": "7aeedd0d",
   "metadata": {
    "execution": {
     "iopub.execute_input": "2025-05-12T12:03:41.961238Z",
     "iopub.status.busy": "2025-05-12T12:03:41.961047Z",
     "iopub.status.idle": "2025-05-12T12:03:41.967489Z",
     "shell.execute_reply": "2025-05-12T12:03:41.966913Z"
    },
    "papermill": {
     "duration": 0.015634,
     "end_time": "2025-05-12T12:03:41.968503",
     "exception": false,
     "start_time": "2025-05-12T12:03:41.952869",
     "status": "completed"
    },
    "tags": []
   },
   "outputs": [
    {
     "data": {
      "text/html": [
       "<div>\n",
       "<style scoped>\n",
       "    .dataframe tbody tr th:only-of-type {\n",
       "        vertical-align: middle;\n",
       "    }\n",
       "\n",
       "    .dataframe tbody tr th {\n",
       "        vertical-align: top;\n",
       "    }\n",
       "\n",
       "    .dataframe thead th {\n",
       "        text-align: right;\n",
       "    }\n",
       "</style>\n",
       "<table border=\"1\" class=\"dataframe\">\n",
       "  <thead>\n",
       "    <tr style=\"text-align: right;\">\n",
       "      <th></th>\n",
       "      <th>Field</th>\n",
       "      <th>Description</th>\n",
       "    </tr>\n",
       "  </thead>\n",
       "  <tbody>\n",
       "    <tr>\n",
       "      <th>0</th>\n",
       "      <td>listing_id</td>\n",
       "      <td>Listing ID</td>\n",
       "    </tr>\n",
       "    <tr>\n",
       "      <th>1</th>\n",
       "      <td>name</td>\n",
       "      <td>Listing Name</td>\n",
       "    </tr>\n",
       "    <tr>\n",
       "      <th>2</th>\n",
       "      <td>host_id</td>\n",
       "      <td>Host ID</td>\n",
       "    </tr>\n",
       "    <tr>\n",
       "      <th>3</th>\n",
       "      <td>host_since</td>\n",
       "      <td>Date the Host joined Airbnb</td>\n",
       "    </tr>\n",
       "    <tr>\n",
       "      <th>4</th>\n",
       "      <td>host_location</td>\n",
       "      <td>Location where the Host is based</td>\n",
       "    </tr>\n",
       "    <tr>\n",
       "      <th>5</th>\n",
       "      <td>host_response_time</td>\n",
       "      <td>Estimate of how long the Host takes to respond</td>\n",
       "    </tr>\n",
       "    <tr>\n",
       "      <th>6</th>\n",
       "      <td>host_response_rate</td>\n",
       "      <td>Percentage of times the Host responds</td>\n",
       "    </tr>\n",
       "    <tr>\n",
       "      <th>7</th>\n",
       "      <td>host_acceptance_rate</td>\n",
       "      <td>Percentage of times the Host accepts a booking...</td>\n",
       "    </tr>\n",
       "    <tr>\n",
       "      <th>8</th>\n",
       "      <td>host_is_superhost</td>\n",
       "      <td>Binary field to determine if the Host is a Sup...</td>\n",
       "    </tr>\n",
       "    <tr>\n",
       "      <th>9</th>\n",
       "      <td>host_total_listings_count</td>\n",
       "      <td>Total listings the Host has in Airbnb</td>\n",
       "    </tr>\n",
       "    <tr>\n",
       "      <th>10</th>\n",
       "      <td>host_has_profile_pic</td>\n",
       "      <td>Binary field to determine if the Host has a pr...</td>\n",
       "    </tr>\n",
       "    <tr>\n",
       "      <th>11</th>\n",
       "      <td>host_identity_verified</td>\n",
       "      <td>Binary field to determine if the Host has a ve...</td>\n",
       "    </tr>\n",
       "    <tr>\n",
       "      <th>12</th>\n",
       "      <td>neighbourhood</td>\n",
       "      <td>Neighborhood the Listing is in</td>\n",
       "    </tr>\n",
       "    <tr>\n",
       "      <th>13</th>\n",
       "      <td>district</td>\n",
       "      <td>District the Listing is in</td>\n",
       "    </tr>\n",
       "    <tr>\n",
       "      <th>14</th>\n",
       "      <td>city</td>\n",
       "      <td>City the Listing is in</td>\n",
       "    </tr>\n",
       "    <tr>\n",
       "      <th>15</th>\n",
       "      <td>latitude</td>\n",
       "      <td>Listing's latitude</td>\n",
       "    </tr>\n",
       "    <tr>\n",
       "      <th>16</th>\n",
       "      <td>longitude</td>\n",
       "      <td>Listing's longitude</td>\n",
       "    </tr>\n",
       "    <tr>\n",
       "      <th>17</th>\n",
       "      <td>property_type</td>\n",
       "      <td>Type of property for the Listing</td>\n",
       "    </tr>\n",
       "    <tr>\n",
       "      <th>18</th>\n",
       "      <td>room_type</td>\n",
       "      <td>Type of room type in Airbnb for the Listing</td>\n",
       "    </tr>\n",
       "    <tr>\n",
       "      <th>19</th>\n",
       "      <td>accommodates</td>\n",
       "      <td>Guests the Listing accomodates</td>\n",
       "    </tr>\n",
       "    <tr>\n",
       "      <th>20</th>\n",
       "      <td>bedrooms</td>\n",
       "      <td>Bedrooms in the Listing</td>\n",
       "    </tr>\n",
       "    <tr>\n",
       "      <th>21</th>\n",
       "      <td>amenities</td>\n",
       "      <td>Amenities the Listing includes</td>\n",
       "    </tr>\n",
       "    <tr>\n",
       "      <th>22</th>\n",
       "      <td>price</td>\n",
       "      <td>Listing price (in each country's currency)</td>\n",
       "    </tr>\n",
       "    <tr>\n",
       "      <th>23</th>\n",
       "      <td>minimum_nights</td>\n",
       "      <td>Minimum nights per booking</td>\n",
       "    </tr>\n",
       "    <tr>\n",
       "      <th>24</th>\n",
       "      <td>maximum_nights</td>\n",
       "      <td>Maximum nights per booking</td>\n",
       "    </tr>\n",
       "    <tr>\n",
       "      <th>25</th>\n",
       "      <td>review_scores_rating</td>\n",
       "      <td>Listing's overall rating (out of 100)</td>\n",
       "    </tr>\n",
       "    <tr>\n",
       "      <th>26</th>\n",
       "      <td>review_scores_accuracy</td>\n",
       "      <td>Listing's accuracy score based on what's promo...</td>\n",
       "    </tr>\n",
       "    <tr>\n",
       "      <th>27</th>\n",
       "      <td>review_scores_cleanliness</td>\n",
       "      <td>Listing's cleanliness score (out of 10)</td>\n",
       "    </tr>\n",
       "    <tr>\n",
       "      <th>28</th>\n",
       "      <td>review_scores_checkin</td>\n",
       "      <td>Listing's check-in experience score (out of 10)</td>\n",
       "    </tr>\n",
       "    <tr>\n",
       "      <th>29</th>\n",
       "      <td>review_scores_communication</td>\n",
       "      <td>Listing's communication with the Host score (o...</td>\n",
       "    </tr>\n",
       "    <tr>\n",
       "      <th>30</th>\n",
       "      <td>review_scores_location</td>\n",
       "      <td>Listing's location score within the city (out ...</td>\n",
       "    </tr>\n",
       "    <tr>\n",
       "      <th>31</th>\n",
       "      <td>review_scores_value</td>\n",
       "      <td>Listing's value score relative to its price (o...</td>\n",
       "    </tr>\n",
       "    <tr>\n",
       "      <th>32</th>\n",
       "      <td>instant_bookable</td>\n",
       "      <td>Binary field to determine if the Listing can b...</td>\n",
       "    </tr>\n",
       "  </tbody>\n",
       "</table>\n",
       "</div>"
      ],
      "text/plain": [
       "                          Field  \\\n",
       "0                    listing_id   \n",
       "1                          name   \n",
       "2                       host_id   \n",
       "3                    host_since   \n",
       "4                 host_location   \n",
       "5            host_response_time   \n",
       "6            host_response_rate   \n",
       "7          host_acceptance_rate   \n",
       "8             host_is_superhost   \n",
       "9     host_total_listings_count   \n",
       "10         host_has_profile_pic   \n",
       "11       host_identity_verified   \n",
       "12                neighbourhood   \n",
       "13                     district   \n",
       "14                         city   \n",
       "15                     latitude   \n",
       "16                    longitude   \n",
       "17                property_type   \n",
       "18                    room_type   \n",
       "19                 accommodates   \n",
       "20                     bedrooms   \n",
       "21                    amenities   \n",
       "22                        price   \n",
       "23               minimum_nights   \n",
       "24               maximum_nights   \n",
       "25         review_scores_rating   \n",
       "26       review_scores_accuracy   \n",
       "27    review_scores_cleanliness   \n",
       "28        review_scores_checkin   \n",
       "29  review_scores_communication   \n",
       "30       review_scores_location   \n",
       "31          review_scores_value   \n",
       "32             instant_bookable   \n",
       "\n",
       "                                          Description  \n",
       "0                                          Listing ID  \n",
       "1                                        Listing Name  \n",
       "2                                             Host ID  \n",
       "3                         Date the Host joined Airbnb  \n",
       "4                    Location where the Host is based  \n",
       "5      Estimate of how long the Host takes to respond  \n",
       "6               Percentage of times the Host responds  \n",
       "7   Percentage of times the Host accepts a booking...  \n",
       "8   Binary field to determine if the Host is a Sup...  \n",
       "9               Total listings the Host has in Airbnb  \n",
       "10  Binary field to determine if the Host has a pr...  \n",
       "11  Binary field to determine if the Host has a ve...  \n",
       "12                     Neighborhood the Listing is in  \n",
       "13                         District the Listing is in  \n",
       "14                             City the Listing is in  \n",
       "15                                 Listing's latitude  \n",
       "16                                Listing's longitude  \n",
       "17                   Type of property for the Listing  \n",
       "18        Type of room type in Airbnb for the Listing  \n",
       "19                     Guests the Listing accomodates  \n",
       "20                            Bedrooms in the Listing  \n",
       "21                     Amenities the Listing includes  \n",
       "22         Listing price (in each country's currency)  \n",
       "23                         Minimum nights per booking  \n",
       "24                         Maximum nights per booking  \n",
       "25              Listing's overall rating (out of 100)  \n",
       "26  Listing's accuracy score based on what's promo...  \n",
       "27            Listing's cleanliness score (out of 10)  \n",
       "28    Listing's check-in experience score (out of 10)  \n",
       "29  Listing's communication with the Host score (o...  \n",
       "30  Listing's location score within the city (out ...  \n",
       "31  Listing's value score relative to its price (o...  \n",
       "32  Binary field to determine if the Listing can b...  "
      ]
     },
     "execution_count": 7,
     "metadata": {},
     "output_type": "execute_result"
    }
   ],
   "source": [
    "listing_dist "
   ]
  },
  {
   "cell_type": "markdown",
   "id": "901c89ca",
   "metadata": {
    "papermill": {
     "duration": 0.008162,
     "end_time": "2025-05-12T12:03:41.984848",
     "exception": false,
     "start_time": "2025-05-12T12:03:41.976686",
     "status": "completed"
    },
    "tags": []
   },
   "source": [
    "<div style=\"background-color: #f88379; padding: 25px; border-radius: 10px;\">\n",
    "  <h1 style=\"color: #333;\"><strong>Loading and Checking the dataset</strong></h1>\n",
    "</div>"
   ]
  },
  {
   "cell_type": "code",
   "execution_count": 8,
   "id": "ce03eb38",
   "metadata": {
    "execution": {
     "iopub.execute_input": "2025-05-12T12:03:42.001996Z",
     "iopub.status.busy": "2025-05-12T12:03:42.001705Z",
     "iopub.status.idle": "2025-05-12T12:03:46.267990Z",
     "shell.execute_reply": "2025-05-12T12:03:46.267105Z"
    },
    "papermill": {
     "duration": 4.276504,
     "end_time": "2025-05-12T12:03:46.269352",
     "exception": false,
     "start_time": "2025-05-12T12:03:41.992848",
     "status": "completed"
    },
    "tags": []
   },
   "outputs": [],
   "source": [
    "listings = pd.read_csv(r\"/kaggle/input/airbnb-listings-reviews/Airbnb Data/Listings.csv\",\n",
    "                      encoding = \"ISO-8859-1\", low_memory=False)"
   ]
  },
  {
   "cell_type": "code",
   "execution_count": 9,
   "id": "97b0cd8a",
   "metadata": {
    "execution": {
     "iopub.execute_input": "2025-05-12T12:03:46.286126Z",
     "iopub.status.busy": "2025-05-12T12:03:46.285907Z",
     "iopub.status.idle": "2025-05-12T12:03:46.289276Z",
     "shell.execute_reply": "2025-05-12T12:03:46.288593Z"
    },
    "papermill": {
     "duration": 0.012863,
     "end_time": "2025-05-12T12:03:46.290421",
     "exception": false,
     "start_time": "2025-05-12T12:03:46.277558",
     "status": "completed"
    },
    "tags": []
   },
   "outputs": [],
   "source": [
    "import warnings\n",
    "warnings.filterwarnings(\"ignore\")"
   ]
  },
  {
   "cell_type": "code",
   "execution_count": 10,
   "id": "404f263b",
   "metadata": {
    "execution": {
     "iopub.execute_input": "2025-05-12T12:03:46.306531Z",
     "iopub.status.busy": "2025-05-12T12:03:46.306332Z",
     "iopub.status.idle": "2025-05-12T12:03:46.326961Z",
     "shell.execute_reply": "2025-05-12T12:03:46.326399Z"
    },
    "papermill": {
     "duration": 0.029754,
     "end_time": "2025-05-12T12:03:46.327988",
     "exception": false,
     "start_time": "2025-05-12T12:03:46.298234",
     "status": "completed"
    },
    "tags": []
   },
   "outputs": [
    {
     "data": {
      "text/html": [
       "<div>\n",
       "<style scoped>\n",
       "    .dataframe tbody tr th:only-of-type {\n",
       "        vertical-align: middle;\n",
       "    }\n",
       "\n",
       "    .dataframe tbody tr th {\n",
       "        vertical-align: top;\n",
       "    }\n",
       "\n",
       "    .dataframe thead th {\n",
       "        text-align: right;\n",
       "    }\n",
       "</style>\n",
       "<table border=\"1\" class=\"dataframe\">\n",
       "  <thead>\n",
       "    <tr style=\"text-align: right;\">\n",
       "      <th></th>\n",
       "      <th>listing_id</th>\n",
       "      <th>name</th>\n",
       "      <th>host_id</th>\n",
       "      <th>host_since</th>\n",
       "      <th>host_location</th>\n",
       "      <th>host_response_time</th>\n",
       "      <th>host_response_rate</th>\n",
       "      <th>host_acceptance_rate</th>\n",
       "      <th>host_is_superhost</th>\n",
       "      <th>host_total_listings_count</th>\n",
       "      <th>...</th>\n",
       "      <th>minimum_nights</th>\n",
       "      <th>maximum_nights</th>\n",
       "      <th>review_scores_rating</th>\n",
       "      <th>review_scores_accuracy</th>\n",
       "      <th>review_scores_cleanliness</th>\n",
       "      <th>review_scores_checkin</th>\n",
       "      <th>review_scores_communication</th>\n",
       "      <th>review_scores_location</th>\n",
       "      <th>review_scores_value</th>\n",
       "      <th>instant_bookable</th>\n",
       "    </tr>\n",
       "  </thead>\n",
       "  <tbody>\n",
       "    <tr>\n",
       "      <th>0</th>\n",
       "      <td>281420</td>\n",
       "      <td>Beautiful Flat in le Village Montmartre, Paris</td>\n",
       "      <td>1466919</td>\n",
       "      <td>2011-12-03</td>\n",
       "      <td>Paris, Ile-de-France, France</td>\n",
       "      <td>NaN</td>\n",
       "      <td>NaN</td>\n",
       "      <td>NaN</td>\n",
       "      <td>f</td>\n",
       "      <td>1.0</td>\n",
       "      <td>...</td>\n",
       "      <td>2</td>\n",
       "      <td>1125</td>\n",
       "      <td>100.0</td>\n",
       "      <td>10.0</td>\n",
       "      <td>10.0</td>\n",
       "      <td>10.0</td>\n",
       "      <td>10.0</td>\n",
       "      <td>10.0</td>\n",
       "      <td>10.0</td>\n",
       "      <td>f</td>\n",
       "    </tr>\n",
       "    <tr>\n",
       "      <th>1</th>\n",
       "      <td>3705183</td>\n",
       "      <td>39 mÃÂ² Paris (Sacre CÃ",
       "âur)</td>\n",
       "      <td>10328771</td>\n",
       "      <td>2013-11-29</td>\n",
       "      <td>Paris, Ile-de-France, France</td>\n",
       "      <td>NaN</td>\n",
       "      <td>NaN</td>\n",
       "      <td>NaN</td>\n",
       "      <td>f</td>\n",
       "      <td>1.0</td>\n",
       "      <td>...</td>\n",
       "      <td>2</td>\n",
       "      <td>1125</td>\n",
       "      <td>100.0</td>\n",
       "      <td>10.0</td>\n",
       "      <td>10.0</td>\n",
       "      <td>10.0</td>\n",
       "      <td>10.0</td>\n",
       "      <td>10.0</td>\n",
       "      <td>10.0</td>\n",
       "      <td>f</td>\n",
       "    </tr>\n",
       "    <tr>\n",
       "      <th>2</th>\n",
       "      <td>4082273</td>\n",
       "      <td>Lovely apartment with Terrace, 60m2</td>\n",
       "      <td>19252768</td>\n",
       "      <td>2014-07-31</td>\n",
       "      <td>Paris, Ile-de-France, France</td>\n",
       "      <td>NaN</td>\n",
       "      <td>NaN</td>\n",
       "      <td>NaN</td>\n",
       "      <td>f</td>\n",
       "      <td>1.0</td>\n",
       "      <td>...</td>\n",
       "      <td>2</td>\n",
       "      <td>1125</td>\n",
       "      <td>100.0</td>\n",
       "      <td>10.0</td>\n",
       "      <td>10.0</td>\n",
       "      <td>10.0</td>\n",
       "      <td>10.0</td>\n",
       "      <td>10.0</td>\n",
       "      <td>10.0</td>\n",
       "      <td>f</td>\n",
       "    </tr>\n",
       "    <tr>\n",
       "      <th>3</th>\n",
       "      <td>4797344</td>\n",
       "      <td>Cosy studio (close to Eiffel tower)</td>\n",
       "      <td>10668311</td>\n",
       "      <td>2013-12-17</td>\n",
       "      <td>Paris, Ile-de-France, France</td>\n",
       "      <td>NaN</td>\n",
       "      <td>NaN</td>\n",
       "      <td>NaN</td>\n",
       "      <td>f</td>\n",
       "      <td>1.0</td>\n",
       "      <td>...</td>\n",
       "      <td>2</td>\n",
       "      <td>1125</td>\n",
       "      <td>100.0</td>\n",
       "      <td>10.0</td>\n",
       "      <td>10.0</td>\n",
       "      <td>10.0</td>\n",
       "      <td>10.0</td>\n",
       "      <td>10.0</td>\n",
       "      <td>10.0</td>\n",
       "      <td>f</td>\n",
       "    </tr>\n",
       "    <tr>\n",
       "      <th>4</th>\n",
       "      <td>4823489</td>\n",
       "      <td>Close to Eiffel Tower - Beautiful flat : 2 rooms</td>\n",
       "      <td>24837558</td>\n",
       "      <td>2014-12-14</td>\n",
       "      <td>Paris, Ile-de-France, France</td>\n",
       "      <td>NaN</td>\n",
       "      <td>NaN</td>\n",
       "      <td>NaN</td>\n",
       "      <td>f</td>\n",
       "      <td>1.0</td>\n",
       "      <td>...</td>\n",
       "      <td>2</td>\n",
       "      <td>1125</td>\n",
       "      <td>100.0</td>\n",
       "      <td>10.0</td>\n",
       "      <td>10.0</td>\n",
       "      <td>10.0</td>\n",
       "      <td>10.0</td>\n",
       "      <td>10.0</td>\n",
       "      <td>10.0</td>\n",
       "      <td>f</td>\n",
       "    </tr>\n",
       "  </tbody>\n",
       "</table>\n",
       "<p>5 rows × 33 columns</p>\n",
       "</div>"
      ],
      "text/plain": [
       "   listing_id                                              name   host_id  \\\n",
       "0      281420    Beautiful Flat in le Village Montmartre, Paris   1466919   \n",
       "1     3705183                   39 mÃÂ² Paris (Sacre CÃ\n",
       "âur)  10328771   \n",
       "2     4082273               Lovely apartment with Terrace, 60m2  19252768   \n",
       "3     4797344               Cosy studio (close to Eiffel tower)  10668311   \n",
       "4     4823489  Close to Eiffel Tower - Beautiful flat : 2 rooms  24837558   \n",
       "\n",
       "   host_since                 host_location host_response_time  \\\n",
       "0  2011-12-03  Paris, Ile-de-France, France                NaN   \n",
       "1  2013-11-29  Paris, Ile-de-France, France                NaN   \n",
       "2  2014-07-31  Paris, Ile-de-France, France                NaN   \n",
       "3  2013-12-17  Paris, Ile-de-France, France                NaN   \n",
       "4  2014-12-14  Paris, Ile-de-France, France                NaN   \n",
       "\n",
       "   host_response_rate  host_acceptance_rate host_is_superhost  \\\n",
       "0                 NaN                   NaN                 f   \n",
       "1                 NaN                   NaN                 f   \n",
       "2                 NaN                   NaN                 f   \n",
       "3                 NaN                   NaN                 f   \n",
       "4                 NaN                   NaN                 f   \n",
       "\n",
       "   host_total_listings_count  ... minimum_nights maximum_nights  \\\n",
       "0                        1.0  ...              2           1125   \n",
       "1                        1.0  ...              2           1125   \n",
       "2                        1.0  ...              2           1125   \n",
       "3                        1.0  ...              2           1125   \n",
       "4                        1.0  ...              2           1125   \n",
       "\n",
       "  review_scores_rating review_scores_accuracy review_scores_cleanliness  \\\n",
       "0                100.0                   10.0                      10.0   \n",
       "1                100.0                   10.0                      10.0   \n",
       "2                100.0                   10.0                      10.0   \n",
       "3                100.0                   10.0                      10.0   \n",
       "4                100.0                   10.0                      10.0   \n",
       "\n",
       "   review_scores_checkin  review_scores_communication review_scores_location  \\\n",
       "0                   10.0                         10.0                   10.0   \n",
       "1                   10.0                         10.0                   10.0   \n",
       "2                   10.0                         10.0                   10.0   \n",
       "3                   10.0                         10.0                   10.0   \n",
       "4                   10.0                         10.0                   10.0   \n",
       "\n",
       "  review_scores_value  instant_bookable  \n",
       "0                10.0                 f  \n",
       "1                10.0                 f  \n",
       "2                10.0                 f  \n",
       "3                10.0                 f  \n",
       "4                10.0                 f  \n",
       "\n",
       "[5 rows x 33 columns]"
      ]
     },
     "execution_count": 10,
     "metadata": {},
     "output_type": "execute_result"
    }
   ],
   "source": [
    "listings.head()"
   ]
  },
  {
   "cell_type": "markdown",
   "id": "a8bfe9c0",
   "metadata": {
    "papermill": {
     "duration": 0.007667,
     "end_time": "2025-05-12T12:03:46.343526",
     "exception": false,
     "start_time": "2025-05-12T12:03:46.335859",
     "status": "completed"
    },
    "tags": []
   },
   "source": [
    "<div style=\"background-color: #f88379; padding: 25px; border-radius: 10px;\">\n",
    "  <h1 style=\"color: #333;\"><strong>Information About the dataset</strong></h1>\n",
    "</div>"
   ]
  },
  {
   "cell_type": "code",
   "execution_count": 11,
   "id": "dc6186ed",
   "metadata": {
    "execution": {
     "iopub.execute_input": "2025-05-12T12:03:46.359820Z",
     "iopub.status.busy": "2025-05-12T12:03:46.359606Z",
     "iopub.status.idle": "2025-05-12T12:03:46.568258Z",
     "shell.execute_reply": "2025-05-12T12:03:46.567089Z"
    },
    "papermill": {
     "duration": 0.218197,
     "end_time": "2025-05-12T12:03:46.569460",
     "exception": false,
     "start_time": "2025-05-12T12:03:46.351263",
     "status": "completed"
    },
    "tags": []
   },
   "outputs": [
    {
     "name": "stdout",
     "output_type": "stream",
     "text": [
      "<class 'pandas.core.frame.DataFrame'>\n",
      "RangeIndex: 279712 entries, 0 to 279711\n",
      "Data columns (total 33 columns):\n",
      " #   Column                       Non-Null Count   Dtype  \n",
      "---  ------                       --------------   -----  \n",
      " 0   listing_id                   279712 non-null  int64  \n",
      " 1   name                         279537 non-null  object \n",
      " 2   host_id                      279712 non-null  int64  \n",
      " 3   host_since                   279547 non-null  object \n",
      " 4   host_location                278872 non-null  object \n",
      " 5   host_response_time           150930 non-null  object \n",
      " 6   host_response_rate           150930 non-null  float64\n",
      " 7   host_acceptance_rate         166625 non-null  float64\n",
      " 8   host_is_superhost            279547 non-null  object \n",
      " 9   host_total_listings_count    279547 non-null  float64\n",
      " 10  host_has_profile_pic         279547 non-null  object \n",
      " 11  host_identity_verified       279547 non-null  object \n",
      " 12  neighbourhood                279712 non-null  object \n",
      " 13  district                     37012 non-null   object \n",
      " 14  city                         279712 non-null  object \n",
      " 15  latitude                     279712 non-null  float64\n",
      " 16  longitude                    279712 non-null  float64\n",
      " 17  property_type                279712 non-null  object \n",
      " 18  room_type                    279712 non-null  object \n",
      " 19  accommodates                 279712 non-null  int64  \n",
      " 20  bedrooms                     250277 non-null  float64\n",
      " 21  amenities                    279712 non-null  object \n",
      " 22  price                        279712 non-null  int64  \n",
      " 23  minimum_nights               279712 non-null  int64  \n",
      " 24  maximum_nights               279712 non-null  int64  \n",
      " 25  review_scores_rating         188307 non-null  float64\n",
      " 26  review_scores_accuracy       187999 non-null  float64\n",
      " 27  review_scores_cleanliness    188047 non-null  float64\n",
      " 28  review_scores_checkin        187941 non-null  float64\n",
      " 29  review_scores_communication  188025 non-null  float64\n",
      " 30  review_scores_location       187937 non-null  float64\n",
      " 31  review_scores_value          187927 non-null  float64\n",
      " 32  instant_bookable             279712 non-null  object \n",
      "dtypes: float64(13), int64(6), object(14)\n",
      "memory usage: 70.4+ MB\n"
     ]
    }
   ],
   "source": [
    "listings.info()"
   ]
  },
  {
   "cell_type": "code",
   "execution_count": 12,
   "id": "2f5f08ff",
   "metadata": {
    "execution": {
     "iopub.execute_input": "2025-05-12T12:03:46.586662Z",
     "iopub.status.busy": "2025-05-12T12:03:46.586458Z",
     "iopub.status.idle": "2025-05-12T12:03:46.632596Z",
     "shell.execute_reply": "2025-05-12T12:03:46.632104Z"
    },
    "papermill": {
     "duration": 0.055874,
     "end_time": "2025-05-12T12:03:46.633658",
     "exception": false,
     "start_time": "2025-05-12T12:03:46.577784",
     "status": "completed"
    },
    "tags": []
   },
   "outputs": [],
   "source": [
    "listings[\"host_since\"] =pd.to_datetime(listings[\"host_since\"] )"
   ]
  },
  {
   "cell_type": "code",
   "execution_count": 13,
   "id": "da8c9aa4",
   "metadata": {
    "execution": {
     "iopub.execute_input": "2025-05-12T12:03:46.691841Z",
     "iopub.status.busy": "2025-05-12T12:03:46.691539Z",
     "iopub.status.idle": "2025-05-12T12:03:46.877334Z",
     "shell.execute_reply": "2025-05-12T12:03:46.876269Z"
    },
    "papermill": {
     "duration": 0.195577,
     "end_time": "2025-05-12T12:03:46.878428",
     "exception": false,
     "start_time": "2025-05-12T12:03:46.682851",
     "status": "completed"
    },
    "tags": []
   },
   "outputs": [
    {
     "name": "stdout",
     "output_type": "stream",
     "text": [
      "<class 'pandas.core.frame.DataFrame'>\n",
      "RangeIndex: 279712 entries, 0 to 279711\n",
      "Data columns (total 33 columns):\n",
      " #   Column                       Non-Null Count   Dtype         \n",
      "---  ------                       --------------   -----         \n",
      " 0   listing_id                   279712 non-null  int64         \n",
      " 1   name                         279537 non-null  object        \n",
      " 2   host_id                      279712 non-null  int64         \n",
      " 3   host_since                   279547 non-null  datetime64[ns]\n",
      " 4   host_location                278872 non-null  object        \n",
      " 5   host_response_time           150930 non-null  object        \n",
      " 6   host_response_rate           150930 non-null  float64       \n",
      " 7   host_acceptance_rate         166625 non-null  float64       \n",
      " 8   host_is_superhost            279547 non-null  object        \n",
      " 9   host_total_listings_count    279547 non-null  float64       \n",
      " 10  host_has_profile_pic         279547 non-null  object        \n",
      " 11  host_identity_verified       279547 non-null  object        \n",
      " 12  neighbourhood                279712 non-null  object        \n",
      " 13  district                     37012 non-null   object        \n",
      " 14  city                         279712 non-null  object        \n",
      " 15  latitude                     279712 non-null  float64       \n",
      " 16  longitude                    279712 non-null  float64       \n",
      " 17  property_type                279712 non-null  object        \n",
      " 18  room_type                    279712 non-null  object        \n",
      " 19  accommodates                 279712 non-null  int64         \n",
      " 20  bedrooms                     250277 non-null  float64       \n",
      " 21  amenities                    279712 non-null  object        \n",
      " 22  price                        279712 non-null  int64         \n",
      " 23  minimum_nights               279712 non-null  int64         \n",
      " 24  maximum_nights               279712 non-null  int64         \n",
      " 25  review_scores_rating         188307 non-null  float64       \n",
      " 26  review_scores_accuracy       187999 non-null  float64       \n",
      " 27  review_scores_cleanliness    188047 non-null  float64       \n",
      " 28  review_scores_checkin        187941 non-null  float64       \n",
      " 29  review_scores_communication  188025 non-null  float64       \n",
      " 30  review_scores_location       187937 non-null  float64       \n",
      " 31  review_scores_value          187927 non-null  float64       \n",
      " 32  instant_bookable             279712 non-null  object        \n",
      "dtypes: datetime64[ns](1), float64(13), int64(6), object(13)\n",
      "memory usage: 70.4+ MB\n"
     ]
    }
   ],
   "source": [
    "listings.info()"
   ]
  },
  {
   "cell_type": "code",
   "execution_count": 14,
   "id": "fecc7900",
   "metadata": {
    "execution": {
     "iopub.execute_input": "2025-05-12T12:03:46.896102Z",
     "iopub.status.busy": "2025-05-12T12:03:46.895894Z",
     "iopub.status.idle": "2025-05-12T12:03:46.913295Z",
     "shell.execute_reply": "2025-05-12T12:03:46.912749Z"
    },
    "papermill": {
     "duration": 0.027224,
     "end_time": "2025-05-12T12:03:46.914322",
     "exception": false,
     "start_time": "2025-05-12T12:03:46.887098",
     "status": "completed"
    },
    "tags": []
   },
   "outputs": [
    {
     "data": {
      "text/plain": [
       "city\n",
       "Paris             64690\n",
       "New York          37012\n",
       "Sydney            33630\n",
       "Rome              27647\n",
       "Rio de Janeiro    26615\n",
       "Istanbul          24519\n",
       "Mexico City       20065\n",
       "Bangkok           19361\n",
       "Cape Town         19086\n",
       "Hong Kong          7087\n",
       "Name: count, dtype: int64"
      ]
     },
     "execution_count": 14,
     "metadata": {},
     "output_type": "execute_result"
    }
   ],
   "source": [
    "listings[\"city\"].value_counts()"
   ]
  },
  {
   "cell_type": "markdown",
   "id": "150bf085",
   "metadata": {
    "papermill": {
     "duration": 0.008051,
     "end_time": "2025-05-12T12:03:46.930522",
     "exception": false,
     "start_time": "2025-05-12T12:03:46.922471",
     "status": "completed"
    },
    "tags": []
   },
   "source": [
    "<div style=\"background-color: #f88379; padding: 25px; border-radius: 10px;\">\n",
    "  <h1 style=\"color: #333;\"><strong>Columns and Rows Filtering</strong></h1>\n",
    "</div>"
   ]
  },
  {
   "cell_type": "code",
   "execution_count": 15,
   "id": "2da0ae4b",
   "metadata": {
    "execution": {
     "iopub.execute_input": "2025-05-12T12:03:46.947429Z",
     "iopub.status.busy": "2025-05-12T12:03:46.947234Z",
     "iopub.status.idle": "2025-05-12T12:03:46.981625Z",
     "shell.execute_reply": "2025-05-12T12:03:46.981099Z"
    },
    "papermill": {
     "duration": 0.044123,
     "end_time": "2025-05-12T12:03:46.982743",
     "exception": false,
     "start_time": "2025-05-12T12:03:46.938620",
     "status": "completed"
    },
    "tags": []
   },
   "outputs": [],
   "source": [
    "Paris_listings =listings.query(\"city == 'Paris'\").loc[:,[\"host_since\",\"neighbourhood\",\"city\",\"accommodates\",\"price\"]]"
   ]
  },
  {
   "cell_type": "markdown",
   "id": "7d649626",
   "metadata": {
    "papermill": {
     "duration": 0.008079,
     "end_time": "2025-05-12T12:03:46.999190",
     "exception": false,
     "start_time": "2025-05-12T12:03:46.991111",
     "status": "completed"
    },
    "tags": []
   },
   "source": [
    "<div style=\"background-color: #f88379; padding: 25px; border-radius: 10px;\">\n",
    "  <h1 style=\"color: #333;\"><strong>Paris City Data Analysis</strong></h1>\n",
    "</div>"
   ]
  },
  {
   "cell_type": "code",
   "execution_count": 16,
   "id": "5f112504",
   "metadata": {
    "execution": {
     "iopub.execute_input": "2025-05-12T12:03:47.016581Z",
     "iopub.status.busy": "2025-05-12T12:03:47.016361Z",
     "iopub.status.idle": "2025-05-12T12:03:47.029355Z",
     "shell.execute_reply": "2025-05-12T12:03:47.028529Z"
    },
    "papermill": {
     "duration": 0.022871,
     "end_time": "2025-05-12T12:03:47.030396",
     "exception": false,
     "start_time": "2025-05-12T12:03:47.007525",
     "status": "completed"
    },
    "tags": []
   },
   "outputs": [
    {
     "name": "stdout",
     "output_type": "stream",
     "text": [
      "<class 'pandas.core.frame.DataFrame'>\n",
      "Index: 64690 entries, 0 to 279711\n",
      "Data columns (total 5 columns):\n",
      " #   Column         Non-Null Count  Dtype         \n",
      "---  ------         --------------  -----         \n",
      " 0   host_since     64657 non-null  datetime64[ns]\n",
      " 1   neighbourhood  64690 non-null  object        \n",
      " 2   city           64690 non-null  object        \n",
      " 3   accommodates   64690 non-null  int64         \n",
      " 4   price          64690 non-null  int64         \n",
      "dtypes: datetime64[ns](1), int64(2), object(2)\n",
      "memory usage: 3.0+ MB\n"
     ]
    }
   ],
   "source": [
    "Paris_listings.info()"
   ]
  },
  {
   "cell_type": "code",
   "execution_count": 17,
   "id": "7db0dc36",
   "metadata": {
    "execution": {
     "iopub.execute_input": "2025-05-12T12:03:47.047979Z",
     "iopub.status.busy": "2025-05-12T12:03:47.047788Z",
     "iopub.status.idle": "2025-05-12T12:03:47.054901Z",
     "shell.execute_reply": "2025-05-12T12:03:47.054387Z"
    },
    "papermill": {
     "duration": 0.016715,
     "end_time": "2025-05-12T12:03:47.055898",
     "exception": false,
     "start_time": "2025-05-12T12:03:47.039183",
     "status": "completed"
    },
    "tags": []
   },
   "outputs": [
    {
     "data": {
      "text/html": [
       "<div>\n",
       "<style scoped>\n",
       "    .dataframe tbody tr th:only-of-type {\n",
       "        vertical-align: middle;\n",
       "    }\n",
       "\n",
       "    .dataframe tbody tr th {\n",
       "        vertical-align: top;\n",
       "    }\n",
       "\n",
       "    .dataframe thead th {\n",
       "        text-align: right;\n",
       "    }\n",
       "</style>\n",
       "<table border=\"1\" class=\"dataframe\">\n",
       "  <thead>\n",
       "    <tr style=\"text-align: right;\">\n",
       "      <th></th>\n",
       "      <th>host_since</th>\n",
       "      <th>neighbourhood</th>\n",
       "      <th>city</th>\n",
       "      <th>accommodates</th>\n",
       "      <th>price</th>\n",
       "    </tr>\n",
       "  </thead>\n",
       "  <tbody>\n",
       "    <tr>\n",
       "      <th>0</th>\n",
       "      <td>2011-12-03</td>\n",
       "      <td>Buttes-Montmartre</td>\n",
       "      <td>Paris</td>\n",
       "      <td>2</td>\n",
       "      <td>53</td>\n",
       "    </tr>\n",
       "    <tr>\n",
       "      <th>1</th>\n",
       "      <td>2013-11-29</td>\n",
       "      <td>Buttes-Montmartre</td>\n",
       "      <td>Paris</td>\n",
       "      <td>2</td>\n",
       "      <td>120</td>\n",
       "    </tr>\n",
       "    <tr>\n",
       "      <th>2</th>\n",
       "      <td>2014-07-31</td>\n",
       "      <td>Elysee</td>\n",
       "      <td>Paris</td>\n",
       "      <td>2</td>\n",
       "      <td>89</td>\n",
       "    </tr>\n",
       "    <tr>\n",
       "      <th>3</th>\n",
       "      <td>2013-12-17</td>\n",
       "      <td>Vaugirard</td>\n",
       "      <td>Paris</td>\n",
       "      <td>2</td>\n",
       "      <td>58</td>\n",
       "    </tr>\n",
       "    <tr>\n",
       "      <th>4</th>\n",
       "      <td>2014-12-14</td>\n",
       "      <td>Passy</td>\n",
       "      <td>Paris</td>\n",
       "      <td>2</td>\n",
       "      <td>60</td>\n",
       "    </tr>\n",
       "  </tbody>\n",
       "</table>\n",
       "</div>"
      ],
      "text/plain": [
       "  host_since      neighbourhood   city  accommodates  price\n",
       "0 2011-12-03  Buttes-Montmartre  Paris             2     53\n",
       "1 2013-11-29  Buttes-Montmartre  Paris             2    120\n",
       "2 2014-07-31             Elysee  Paris             2     89\n",
       "3 2013-12-17          Vaugirard  Paris             2     58\n",
       "4 2014-12-14              Passy  Paris             2     60"
      ]
     },
     "execution_count": 17,
     "metadata": {},
     "output_type": "execute_result"
    }
   ],
   "source": [
    "Paris_listings.head()"
   ]
  },
  {
   "cell_type": "markdown",
   "id": "9be77fba",
   "metadata": {
    "papermill": {
     "duration": 0.008142,
     "end_time": "2025-05-12T12:03:47.072704",
     "exception": false,
     "start_time": "2025-05-12T12:03:47.064562",
     "status": "completed"
    },
    "tags": []
   },
   "source": [
    "<div style=\"background-color: #f88379; padding: 25px; border-radius: 10px;\">\n",
    "  <h1 style=\"color: #333;\"><strong>Checking if there are missing values in the dataset</strong></h1>\n",
    "</div>"
   ]
  },
  {
   "cell_type": "code",
   "execution_count": 18,
   "id": "864f911a",
   "metadata": {
    "execution": {
     "iopub.execute_input": "2025-05-12T12:03:47.090565Z",
     "iopub.status.busy": "2025-05-12T12:03:47.090374Z",
     "iopub.status.idle": "2025-05-12T12:03:47.101320Z",
     "shell.execute_reply": "2025-05-12T12:03:47.100775Z"
    },
    "papermill": {
     "duration": 0.02087,
     "end_time": "2025-05-12T12:03:47.102289",
     "exception": false,
     "start_time": "2025-05-12T12:03:47.081419",
     "status": "completed"
    },
    "tags": []
   },
   "outputs": [
    {
     "data": {
      "text/plain": [
       "host_since       33\n",
       "neighbourhood     0\n",
       "city              0\n",
       "accommodates      0\n",
       "price             0\n",
       "dtype: int64"
      ]
     },
     "execution_count": 18,
     "metadata": {},
     "output_type": "execute_result"
    }
   ],
   "source": [
    "Paris_listings.isna().sum()"
   ]
  },
  {
   "cell_type": "code",
   "execution_count": 19,
   "id": "817f3520",
   "metadata": {
    "execution": {
     "iopub.execute_input": "2025-05-12T12:03:47.120255Z",
     "iopub.status.busy": "2025-05-12T12:03:47.119670Z",
     "iopub.status.idle": "2025-05-12T12:03:47.130686Z",
     "shell.execute_reply": "2025-05-12T12:03:47.130190Z"
    },
    "papermill": {
     "duration": 0.020937,
     "end_time": "2025-05-12T12:03:47.131679",
     "exception": false,
     "start_time": "2025-05-12T12:03:47.110742",
     "status": "completed"
    },
    "tags": []
   },
   "outputs": [],
   "source": [
    "Paris_listings.dropna(how = \"any\",inplace = True)"
   ]
  },
  {
   "cell_type": "code",
   "execution_count": 20,
   "id": "0455adee",
   "metadata": {
    "execution": {
     "iopub.execute_input": "2025-05-12T12:03:47.149104Z",
     "iopub.status.busy": "2025-05-12T12:03:47.148939Z",
     "iopub.status.idle": "2025-05-12T12:03:47.169477Z",
     "shell.execute_reply": "2025-05-12T12:03:47.168900Z"
    },
    "papermill": {
     "duration": 0.030605,
     "end_time": "2025-05-12T12:03:47.170579",
     "exception": false,
     "start_time": "2025-05-12T12:03:47.139974",
     "status": "completed"
    },
    "tags": []
   },
   "outputs": [
    {
     "data": {
      "text/html": [
       "<div>\n",
       "<style scoped>\n",
       "    .dataframe tbody tr th:only-of-type {\n",
       "        vertical-align: middle;\n",
       "    }\n",
       "\n",
       "    .dataframe tbody tr th {\n",
       "        vertical-align: top;\n",
       "    }\n",
       "\n",
       "    .dataframe thead th {\n",
       "        text-align: right;\n",
       "    }\n",
       "</style>\n",
       "<table border=\"1\" class=\"dataframe\">\n",
       "  <thead>\n",
       "    <tr style=\"text-align: right;\">\n",
       "      <th></th>\n",
       "      <th>neighbourhood</th>\n",
       "      <th>city</th>\n",
       "    </tr>\n",
       "  </thead>\n",
       "  <tbody>\n",
       "    <tr>\n",
       "      <th>count</th>\n",
       "      <td>64657</td>\n",
       "      <td>64657</td>\n",
       "    </tr>\n",
       "    <tr>\n",
       "      <th>unique</th>\n",
       "      <td>20</td>\n",
       "      <td>1</td>\n",
       "    </tr>\n",
       "    <tr>\n",
       "      <th>top</th>\n",
       "      <td>Buttes-Montmartre</td>\n",
       "      <td>Paris</td>\n",
       "    </tr>\n",
       "    <tr>\n",
       "      <th>freq</th>\n",
       "      <td>7232</td>\n",
       "      <td>64657</td>\n",
       "    </tr>\n",
       "  </tbody>\n",
       "</table>\n",
       "</div>"
      ],
      "text/plain": [
       "            neighbourhood   city\n",
       "count               64657  64657\n",
       "unique                 20      1\n",
       "top     Buttes-Montmartre  Paris\n",
       "freq                 7232  64657"
      ]
     },
     "execution_count": 20,
     "metadata": {},
     "output_type": "execute_result"
    }
   ],
   "source": [
    "Paris_listings.describe(include=\"object\")"
   ]
  },
  {
   "cell_type": "code",
   "execution_count": 21,
   "id": "f6095f78",
   "metadata": {
    "execution": {
     "iopub.execute_input": "2025-05-12T12:03:47.188461Z",
     "iopub.status.busy": "2025-05-12T12:03:47.188268Z",
     "iopub.status.idle": "2025-05-12T12:03:47.201077Z",
     "shell.execute_reply": "2025-05-12T12:03:47.200178Z"
    },
    "papermill": {
     "duration": 0.023033,
     "end_time": "2025-05-12T12:03:47.202203",
     "exception": false,
     "start_time": "2025-05-12T12:03:47.179170",
     "status": "completed"
    },
    "tags": []
   },
   "outputs": [
    {
     "name": "stdout",
     "output_type": "stream",
     "text": [
      "<class 'pandas.core.frame.DataFrame'>\n",
      "Index: 64657 entries, 0 to 279711\n",
      "Data columns (total 5 columns):\n",
      " #   Column         Non-Null Count  Dtype         \n",
      "---  ------         --------------  -----         \n",
      " 0   host_since     64657 non-null  datetime64[ns]\n",
      " 1   neighbourhood  64657 non-null  object        \n",
      " 2   city           64657 non-null  object        \n",
      " 3   accommodates   64657 non-null  int64         \n",
      " 4   price          64657 non-null  int64         \n",
      "dtypes: datetime64[ns](1), int64(2), object(2)\n",
      "memory usage: 3.0+ MB\n"
     ]
    }
   ],
   "source": [
    "Paris_listings.info()"
   ]
  },
  {
   "cell_type": "code",
   "execution_count": 22,
   "id": "87d76750",
   "metadata": {
    "execution": {
     "iopub.execute_input": "2025-05-12T12:03:47.221909Z",
     "iopub.status.busy": "2025-05-12T12:03:47.221679Z",
     "iopub.status.idle": "2025-05-12T12:03:47.228800Z",
     "shell.execute_reply": "2025-05-12T12:03:47.228051Z"
    },
    "papermill": {
     "duration": 0.017854,
     "end_time": "2025-05-12T12:03:47.229883",
     "exception": false,
     "start_time": "2025-05-12T12:03:47.212029",
     "status": "completed"
    },
    "tags": []
   },
   "outputs": [
    {
     "data": {
      "text/html": [
       "<div>\n",
       "<style scoped>\n",
       "    .dataframe tbody tr th:only-of-type {\n",
       "        vertical-align: middle;\n",
       "    }\n",
       "\n",
       "    .dataframe tbody tr th {\n",
       "        vertical-align: top;\n",
       "    }\n",
       "\n",
       "    .dataframe thead th {\n",
       "        text-align: right;\n",
       "    }\n",
       "</style>\n",
       "<table border=\"1\" class=\"dataframe\">\n",
       "  <thead>\n",
       "    <tr style=\"text-align: right;\">\n",
       "      <th></th>\n",
       "      <th>host_since</th>\n",
       "      <th>neighbourhood</th>\n",
       "      <th>city</th>\n",
       "      <th>accommodates</th>\n",
       "      <th>price</th>\n",
       "    </tr>\n",
       "  </thead>\n",
       "  <tbody>\n",
       "    <tr>\n",
       "      <th>0</th>\n",
       "      <td>2011-12-03</td>\n",
       "      <td>Buttes-Montmartre</td>\n",
       "      <td>Paris</td>\n",
       "      <td>2</td>\n",
       "      <td>53</td>\n",
       "    </tr>\n",
       "    <tr>\n",
       "      <th>1</th>\n",
       "      <td>2013-11-29</td>\n",
       "      <td>Buttes-Montmartre</td>\n",
       "      <td>Paris</td>\n",
       "      <td>2</td>\n",
       "      <td>120</td>\n",
       "    </tr>\n",
       "    <tr>\n",
       "      <th>2</th>\n",
       "      <td>2014-07-31</td>\n",
       "      <td>Elysee</td>\n",
       "      <td>Paris</td>\n",
       "      <td>2</td>\n",
       "      <td>89</td>\n",
       "    </tr>\n",
       "    <tr>\n",
       "      <th>3</th>\n",
       "      <td>2013-12-17</td>\n",
       "      <td>Vaugirard</td>\n",
       "      <td>Paris</td>\n",
       "      <td>2</td>\n",
       "      <td>58</td>\n",
       "    </tr>\n",
       "    <tr>\n",
       "      <th>4</th>\n",
       "      <td>2014-12-14</td>\n",
       "      <td>Passy</td>\n",
       "      <td>Paris</td>\n",
       "      <td>2</td>\n",
       "      <td>60</td>\n",
       "    </tr>\n",
       "  </tbody>\n",
       "</table>\n",
       "</div>"
      ],
      "text/plain": [
       "  host_since      neighbourhood   city  accommodates  price\n",
       "0 2011-12-03  Buttes-Montmartre  Paris             2     53\n",
       "1 2013-11-29  Buttes-Montmartre  Paris             2    120\n",
       "2 2014-07-31             Elysee  Paris             2     89\n",
       "3 2013-12-17          Vaugirard  Paris             2     58\n",
       "4 2014-12-14              Passy  Paris             2     60"
      ]
     },
     "execution_count": 22,
     "metadata": {},
     "output_type": "execute_result"
    }
   ],
   "source": [
    "Paris_listings.head()"
   ]
  },
  {
   "cell_type": "code",
   "execution_count": 23,
   "id": "ab2b22df",
   "metadata": {
    "execution": {
     "iopub.execute_input": "2025-05-12T12:03:47.248390Z",
     "iopub.status.busy": "2025-05-12T12:03:47.248199Z",
     "iopub.status.idle": "2025-05-12T12:03:47.268469Z",
     "shell.execute_reply": "2025-05-12T12:03:47.267757Z"
    },
    "papermill": {
     "duration": 0.030942,
     "end_time": "2025-05-12T12:03:47.269589",
     "exception": false,
     "start_time": "2025-05-12T12:03:47.238647",
     "status": "completed"
    },
    "tags": []
   },
   "outputs": [
    {
     "data": {
      "text/html": [
       "<div>\n",
       "<style scoped>\n",
       "    .dataframe tbody tr th:only-of-type {\n",
       "        vertical-align: middle;\n",
       "    }\n",
       "\n",
       "    .dataframe tbody tr th {\n",
       "        vertical-align: top;\n",
       "    }\n",
       "\n",
       "    .dataframe thead th {\n",
       "        text-align: right;\n",
       "    }\n",
       "</style>\n",
       "<table border=\"1\" class=\"dataframe\">\n",
       "  <thead>\n",
       "    <tr style=\"text-align: right;\">\n",
       "      <th></th>\n",
       "      <th>host_since</th>\n",
       "      <th>accommodates</th>\n",
       "      <th>price</th>\n",
       "    </tr>\n",
       "  </thead>\n",
       "  <tbody>\n",
       "    <tr>\n",
       "      <th>count</th>\n",
       "      <td>64657</td>\n",
       "      <td>64657.000000</td>\n",
       "      <td>64657.000000</td>\n",
       "    </tr>\n",
       "    <tr>\n",
       "      <th>mean</th>\n",
       "      <td>2015-11-01 11:06:05.528867584</td>\n",
       "      <td>3.037877</td>\n",
       "      <td>113.104614</td>\n",
       "    </tr>\n",
       "    <tr>\n",
       "      <th>min</th>\n",
       "      <td>2008-08-30 00:00:00</td>\n",
       "      <td>0.000000</td>\n",
       "      <td>0.000000</td>\n",
       "    </tr>\n",
       "    <tr>\n",
       "      <th>25%</th>\n",
       "      <td>2014-03-09 00:00:00</td>\n",
       "      <td>2.000000</td>\n",
       "      <td>59.000000</td>\n",
       "    </tr>\n",
       "    <tr>\n",
       "      <th>50%</th>\n",
       "      <td>2015-07-07 00:00:00</td>\n",
       "      <td>2.000000</td>\n",
       "      <td>80.000000</td>\n",
       "    </tr>\n",
       "    <tr>\n",
       "      <th>75%</th>\n",
       "      <td>2017-05-29 00:00:00</td>\n",
       "      <td>4.000000</td>\n",
       "      <td>120.000000</td>\n",
       "    </tr>\n",
       "    <tr>\n",
       "      <th>max</th>\n",
       "      <td>2021-02-07 00:00:00</td>\n",
       "      <td>16.000000</td>\n",
       "      <td>12000.000000</td>\n",
       "    </tr>\n",
       "    <tr>\n",
       "      <th>std</th>\n",
       "      <td>NaN</td>\n",
       "      <td>1.588382</td>\n",
       "      <td>214.479626</td>\n",
       "    </tr>\n",
       "  </tbody>\n",
       "</table>\n",
       "</div>"
      ],
      "text/plain": [
       "                          host_since  accommodates         price\n",
       "count                          64657  64657.000000  64657.000000\n",
       "mean   2015-11-01 11:06:05.528867584      3.037877    113.104614\n",
       "min              2008-08-30 00:00:00      0.000000      0.000000\n",
       "25%              2014-03-09 00:00:00      2.000000     59.000000\n",
       "50%              2015-07-07 00:00:00      2.000000     80.000000\n",
       "75%              2017-05-29 00:00:00      4.000000    120.000000\n",
       "max              2021-02-07 00:00:00     16.000000  12000.000000\n",
       "std                              NaN      1.588382    214.479626"
      ]
     },
     "execution_count": 23,
     "metadata": {},
     "output_type": "execute_result"
    }
   ],
   "source": [
    "Paris_listings.describe()"
   ]
  },
  {
   "cell_type": "code",
   "execution_count": 24,
   "id": "bda63ffa",
   "metadata": {
    "execution": {
     "iopub.execute_input": "2025-05-12T12:03:47.287979Z",
     "iopub.status.busy": "2025-05-12T12:03:47.287784Z",
     "iopub.status.idle": "2025-05-12T12:03:47.295831Z",
     "shell.execute_reply": "2025-05-12T12:03:47.295054Z"
    },
    "papermill": {
     "duration": 0.018394,
     "end_time": "2025-05-12T12:03:47.296908",
     "exception": false,
     "start_time": "2025-05-12T12:03:47.278514",
     "status": "completed"
    },
    "tags": []
   },
   "outputs": [
    {
     "data": {
      "text/html": [
       "<div>\n",
       "<style scoped>\n",
       "    .dataframe tbody tr th:only-of-type {\n",
       "        vertical-align: middle;\n",
       "    }\n",
       "\n",
       "    .dataframe tbody tr th {\n",
       "        vertical-align: top;\n",
       "    }\n",
       "\n",
       "    .dataframe thead th {\n",
       "        text-align: right;\n",
       "    }\n",
       "</style>\n",
       "<table border=\"1\" class=\"dataframe\">\n",
       "  <thead>\n",
       "    <tr style=\"text-align: right;\">\n",
       "      <th></th>\n",
       "      <th>host_since</th>\n",
       "      <th>neighbourhood</th>\n",
       "      <th>city</th>\n",
       "      <th>accommodates</th>\n",
       "      <th>price</th>\n",
       "    </tr>\n",
       "  </thead>\n",
       "  <tbody>\n",
       "    <tr>\n",
       "      <th>98209</th>\n",
       "      <td>2020-07-20</td>\n",
       "      <td>Pantheon</td>\n",
       "      <td>Paris</td>\n",
       "      <td>0</td>\n",
       "      <td>0</td>\n",
       "    </tr>\n",
       "    <tr>\n",
       "      <th>203257</th>\n",
       "      <td>2020-02-04</td>\n",
       "      <td>Batignolles-Monceau</td>\n",
       "      <td>Paris</td>\n",
       "      <td>0</td>\n",
       "      <td>0</td>\n",
       "    </tr>\n",
       "    <tr>\n",
       "      <th>203258</th>\n",
       "      <td>2016-10-17</td>\n",
       "      <td>Opera</td>\n",
       "      <td>Paris</td>\n",
       "      <td>0</td>\n",
       "      <td>0</td>\n",
       "    </tr>\n",
       "    <tr>\n",
       "      <th>203259</th>\n",
       "      <td>2020-04-24</td>\n",
       "      <td>Luxembourg</td>\n",
       "      <td>Paris</td>\n",
       "      <td>0</td>\n",
       "      <td>0</td>\n",
       "    </tr>\n",
       "    <tr>\n",
       "      <th>203260</th>\n",
       "      <td>2020-04-24</td>\n",
       "      <td>Vaugirard</td>\n",
       "      <td>Paris</td>\n",
       "      <td>0</td>\n",
       "      <td>0</td>\n",
       "    </tr>\n",
       "  </tbody>\n",
       "</table>\n",
       "</div>"
      ],
      "text/plain": [
       "       host_since        neighbourhood   city  accommodates  price\n",
       "98209  2020-07-20             Pantheon  Paris             0      0\n",
       "203257 2020-02-04  Batignolles-Monceau  Paris             0      0\n",
       "203258 2016-10-17                Opera  Paris             0      0\n",
       "203259 2020-04-24           Luxembourg  Paris             0      0\n",
       "203260 2020-04-24            Vaugirard  Paris             0      0"
      ]
     },
     "execution_count": 24,
     "metadata": {},
     "output_type": "execute_result"
    }
   ],
   "source": [
    "Paris_listings[Paris_listings[\"accommodates\"] == 0].head()"
   ]
  },
  {
   "cell_type": "code",
   "execution_count": 25,
   "id": "28388a24",
   "metadata": {
    "execution": {
     "iopub.execute_input": "2025-05-12T12:03:47.315137Z",
     "iopub.status.busy": "2025-05-12T12:03:47.314944Z",
     "iopub.status.idle": "2025-05-12T12:03:47.321482Z",
     "shell.execute_reply": "2025-05-12T12:03:47.320751Z"
    },
    "papermill": {
     "duration": 0.016763,
     "end_time": "2025-05-12T12:03:47.322502",
     "exception": false,
     "start_time": "2025-05-12T12:03:47.305739",
     "status": "completed"
    },
    "tags": []
   },
   "outputs": [
    {
     "data": {
      "text/plain": [
       "host_since       54\n",
       "neighbourhood    54\n",
       "city             54\n",
       "accommodates     54\n",
       "price            54\n",
       "dtype: int64"
      ]
     },
     "execution_count": 25,
     "metadata": {},
     "output_type": "execute_result"
    }
   ],
   "source": [
    "Paris_listings[Paris_listings[\"accommodates\"] == 0].count(axis = 0)"
   ]
  },
  {
   "cell_type": "code",
   "execution_count": 26,
   "id": "58e1399d",
   "metadata": {
    "execution": {
     "iopub.execute_input": "2025-05-12T12:03:47.341261Z",
     "iopub.status.busy": "2025-05-12T12:03:47.341071Z",
     "iopub.status.idle": "2025-05-12T12:03:47.348618Z",
     "shell.execute_reply": "2025-05-12T12:03:47.348096Z"
    },
    "papermill": {
     "duration": 0.018194,
     "end_time": "2025-05-12T12:03:47.349622",
     "exception": false,
     "start_time": "2025-05-12T12:03:47.331428",
     "status": "completed"
    },
    "tags": []
   },
   "outputs": [
    {
     "data": {
      "text/html": [
       "<div>\n",
       "<style scoped>\n",
       "    .dataframe tbody tr th:only-of-type {\n",
       "        vertical-align: middle;\n",
       "    }\n",
       "\n",
       "    .dataframe tbody tr th {\n",
       "        vertical-align: top;\n",
       "    }\n",
       "\n",
       "    .dataframe thead th {\n",
       "        text-align: right;\n",
       "    }\n",
       "</style>\n",
       "<table border=\"1\" class=\"dataframe\">\n",
       "  <thead>\n",
       "    <tr style=\"text-align: right;\">\n",
       "      <th></th>\n",
       "      <th>host_since</th>\n",
       "      <th>neighbourhood</th>\n",
       "      <th>city</th>\n",
       "      <th>accommodates</th>\n",
       "      <th>price</th>\n",
       "    </tr>\n",
       "  </thead>\n",
       "  <tbody>\n",
       "    <tr>\n",
       "      <th>98209</th>\n",
       "      <td>2020-07-20</td>\n",
       "      <td>Pantheon</td>\n",
       "      <td>Paris</td>\n",
       "      <td>0</td>\n",
       "      <td>0</td>\n",
       "    </tr>\n",
       "    <tr>\n",
       "      <th>203257</th>\n",
       "      <td>2020-02-04</td>\n",
       "      <td>Batignolles-Monceau</td>\n",
       "      <td>Paris</td>\n",
       "      <td>0</td>\n",
       "      <td>0</td>\n",
       "    </tr>\n",
       "    <tr>\n",
       "      <th>203258</th>\n",
       "      <td>2016-10-17</td>\n",
       "      <td>Opera</td>\n",
       "      <td>Paris</td>\n",
       "      <td>0</td>\n",
       "      <td>0</td>\n",
       "    </tr>\n",
       "    <tr>\n",
       "      <th>203259</th>\n",
       "      <td>2020-04-24</td>\n",
       "      <td>Luxembourg</td>\n",
       "      <td>Paris</td>\n",
       "      <td>0</td>\n",
       "      <td>0</td>\n",
       "    </tr>\n",
       "    <tr>\n",
       "      <th>203260</th>\n",
       "      <td>2020-04-24</td>\n",
       "      <td>Vaugirard</td>\n",
       "      <td>Paris</td>\n",
       "      <td>0</td>\n",
       "      <td>0</td>\n",
       "    </tr>\n",
       "  </tbody>\n",
       "</table>\n",
       "</div>"
      ],
      "text/plain": [
       "       host_since        neighbourhood   city  accommodates  price\n",
       "98209  2020-07-20             Pantheon  Paris             0      0\n",
       "203257 2020-02-04  Batignolles-Monceau  Paris             0      0\n",
       "203258 2016-10-17                Opera  Paris             0      0\n",
       "203259 2020-04-24           Luxembourg  Paris             0      0\n",
       "203260 2020-04-24            Vaugirard  Paris             0      0"
      ]
     },
     "execution_count": 26,
     "metadata": {},
     "output_type": "execute_result"
    }
   ],
   "source": [
    "Paris_listings[Paris_listings[\"price\"] == 0].head()"
   ]
  },
  {
   "cell_type": "code",
   "execution_count": 27,
   "id": "07b879e6",
   "metadata": {
    "execution": {
     "iopub.execute_input": "2025-05-12T12:03:47.369238Z",
     "iopub.status.busy": "2025-05-12T12:03:47.368666Z",
     "iopub.status.idle": "2025-05-12T12:03:47.374362Z",
     "shell.execute_reply": "2025-05-12T12:03:47.373829Z"
    },
    "papermill": {
     "duration": 0.016303,
     "end_time": "2025-05-12T12:03:47.375298",
     "exception": false,
     "start_time": "2025-05-12T12:03:47.358995",
     "status": "completed"
    },
    "tags": []
   },
   "outputs": [
    {
     "data": {
      "text/plain": [
       "host_since       62\n",
       "neighbourhood    62\n",
       "city             62\n",
       "accommodates     62\n",
       "price            62\n",
       "dtype: int64"
      ]
     },
     "execution_count": 27,
     "metadata": {},
     "output_type": "execute_result"
    }
   ],
   "source": [
    "Paris_listings[Paris_listings[\"price\"] == 0].count(axis = 0)"
   ]
  },
  {
   "cell_type": "code",
   "execution_count": 28,
   "id": "bd088614",
   "metadata": {
    "execution": {
     "iopub.execute_input": "2025-05-12T12:03:47.394246Z",
     "iopub.status.busy": "2025-05-12T12:03:47.394086Z",
     "iopub.status.idle": "2025-05-12T12:03:47.402460Z",
     "shell.execute_reply": "2025-05-12T12:03:47.401962Z"
    },
    "papermill": {
     "duration": 0.018984,
     "end_time": "2025-05-12T12:03:47.403557",
     "exception": false,
     "start_time": "2025-05-12T12:03:47.384573",
     "status": "completed"
    },
    "tags": []
   },
   "outputs": [
    {
     "data": {
      "text/html": [
       "<div>\n",
       "<style scoped>\n",
       "    .dataframe tbody tr th:only-of-type {\n",
       "        vertical-align: middle;\n",
       "    }\n",
       "\n",
       "    .dataframe tbody tr th {\n",
       "        vertical-align: top;\n",
       "    }\n",
       "\n",
       "    .dataframe thead th {\n",
       "        text-align: right;\n",
       "    }\n",
       "</style>\n",
       "<table border=\"1\" class=\"dataframe\">\n",
       "  <thead>\n",
       "    <tr style=\"text-align: right;\">\n",
       "      <th></th>\n",
       "      <th>host_since</th>\n",
       "      <th>neighbourhood</th>\n",
       "      <th>city</th>\n",
       "      <th>accommodates</th>\n",
       "      <th>price</th>\n",
       "    </tr>\n",
       "  </thead>\n",
       "  <tbody>\n",
       "    <tr>\n",
       "      <th>207075</th>\n",
       "      <td>2019-07-22</td>\n",
       "      <td>Vaugirard</td>\n",
       "      <td>Paris</td>\n",
       "      <td>2</td>\n",
       "      <td>0</td>\n",
       "    </tr>\n",
       "    <tr>\n",
       "      <th>207076</th>\n",
       "      <td>2019-10-31</td>\n",
       "      <td>Enclos-St-Laurent</td>\n",
       "      <td>Paris</td>\n",
       "      <td>2</td>\n",
       "      <td>0</td>\n",
       "    </tr>\n",
       "    <tr>\n",
       "      <th>208301</th>\n",
       "      <td>2019-05-27</td>\n",
       "      <td>Palais-Bourbon</td>\n",
       "      <td>Paris</td>\n",
       "      <td>2</td>\n",
       "      <td>0</td>\n",
       "    </tr>\n",
       "    <tr>\n",
       "      <th>208302</th>\n",
       "      <td>2019-07-19</td>\n",
       "      <td>Pantheon</td>\n",
       "      <td>Paris</td>\n",
       "      <td>3</td>\n",
       "      <td>0</td>\n",
       "    </tr>\n",
       "    <tr>\n",
       "      <th>208854</th>\n",
       "      <td>2016-09-16</td>\n",
       "      <td>Louvre</td>\n",
       "      <td>Paris</td>\n",
       "      <td>3</td>\n",
       "      <td>0</td>\n",
       "    </tr>\n",
       "    <tr>\n",
       "      <th>208855</th>\n",
       "      <td>2019-11-06</td>\n",
       "      <td>Luxembourg</td>\n",
       "      <td>Paris</td>\n",
       "      <td>3</td>\n",
       "      <td>0</td>\n",
       "    </tr>\n",
       "    <tr>\n",
       "      <th>208856</th>\n",
       "      <td>2019-12-02</td>\n",
       "      <td>Elysee</td>\n",
       "      <td>Paris</td>\n",
       "      <td>3</td>\n",
       "      <td>0</td>\n",
       "    </tr>\n",
       "    <tr>\n",
       "      <th>208857</th>\n",
       "      <td>2019-12-17</td>\n",
       "      <td>Opera</td>\n",
       "      <td>Paris</td>\n",
       "      <td>2</td>\n",
       "      <td>0</td>\n",
       "    </tr>\n",
       "  </tbody>\n",
       "</table>\n",
       "</div>"
      ],
      "text/plain": [
       "       host_since      neighbourhood   city  accommodates  price\n",
       "207075 2019-07-22          Vaugirard  Paris             2      0\n",
       "207076 2019-10-31  Enclos-St-Laurent  Paris             2      0\n",
       "208301 2019-05-27     Palais-Bourbon  Paris             2      0\n",
       "208302 2019-07-19           Pantheon  Paris             3      0\n",
       "208854 2016-09-16             Louvre  Paris             3      0\n",
       "208855 2019-11-06         Luxembourg  Paris             3      0\n",
       "208856 2019-12-02             Elysee  Paris             3      0\n",
       "208857 2019-12-17              Opera  Paris             2      0"
      ]
     },
     "execution_count": 28,
     "metadata": {},
     "output_type": "execute_result"
    }
   ],
   "source": [
    "Paris_listings[(Paris_listings[\"accommodates\"] !=0) &(Paris_listings[\"price\"] == 0) ]"
   ]
  },
  {
   "cell_type": "code",
   "execution_count": 29,
   "id": "aaa69c33",
   "metadata": {
    "execution": {
     "iopub.execute_input": "2025-05-12T12:03:47.422794Z",
     "iopub.status.busy": "2025-05-12T12:03:47.422568Z",
     "iopub.status.idle": "2025-05-12T12:03:47.427967Z",
     "shell.execute_reply": "2025-05-12T12:03:47.427413Z"
    },
    "papermill": {
     "duration": 0.016231,
     "end_time": "2025-05-12T12:03:47.428970",
     "exception": false,
     "start_time": "2025-05-12T12:03:47.412739",
     "status": "completed"
    },
    "tags": []
   },
   "outputs": [],
   "source": [
    "Paris_listings = Paris_listings[Paris_listings[\"price\"] != 0]"
   ]
  },
  {
   "cell_type": "code",
   "execution_count": 30,
   "id": "fd757e84",
   "metadata": {
    "execution": {
     "iopub.execute_input": "2025-05-12T12:03:47.448196Z",
     "iopub.status.busy": "2025-05-12T12:03:47.448005Z",
     "iopub.status.idle": "2025-05-12T12:03:47.456080Z",
     "shell.execute_reply": "2025-05-12T12:03:47.455366Z"
    },
    "papermill": {
     "duration": 0.018935,
     "end_time": "2025-05-12T12:03:47.457172",
     "exception": false,
     "start_time": "2025-05-12T12:03:47.438237",
     "status": "completed"
    },
    "tags": []
   },
   "outputs": [
    {
     "data": {
      "text/html": [
       "<div>\n",
       "<style scoped>\n",
       "    .dataframe tbody tr th:only-of-type {\n",
       "        vertical-align: middle;\n",
       "    }\n",
       "\n",
       "    .dataframe tbody tr th {\n",
       "        vertical-align: top;\n",
       "    }\n",
       "\n",
       "    .dataframe thead th {\n",
       "        text-align: right;\n",
       "    }\n",
       "</style>\n",
       "<table border=\"1\" class=\"dataframe\">\n",
       "  <thead>\n",
       "    <tr style=\"text-align: right;\">\n",
       "      <th></th>\n",
       "      <th>host_since</th>\n",
       "      <th>neighbourhood</th>\n",
       "      <th>city</th>\n",
       "      <th>accommodates</th>\n",
       "      <th>price</th>\n",
       "    </tr>\n",
       "  </thead>\n",
       "  <tbody>\n",
       "    <tr>\n",
       "      <th>0</th>\n",
       "      <td>2011-12-03</td>\n",
       "      <td>Buttes-Montmartre</td>\n",
       "      <td>Paris</td>\n",
       "      <td>2</td>\n",
       "      <td>53</td>\n",
       "    </tr>\n",
       "    <tr>\n",
       "      <th>1</th>\n",
       "      <td>2013-11-29</td>\n",
       "      <td>Buttes-Montmartre</td>\n",
       "      <td>Paris</td>\n",
       "      <td>2</td>\n",
       "      <td>120</td>\n",
       "    </tr>\n",
       "    <tr>\n",
       "      <th>2</th>\n",
       "      <td>2014-07-31</td>\n",
       "      <td>Elysee</td>\n",
       "      <td>Paris</td>\n",
       "      <td>2</td>\n",
       "      <td>89</td>\n",
       "    </tr>\n",
       "    <tr>\n",
       "      <th>3</th>\n",
       "      <td>2013-12-17</td>\n",
       "      <td>Vaugirard</td>\n",
       "      <td>Paris</td>\n",
       "      <td>2</td>\n",
       "      <td>58</td>\n",
       "    </tr>\n",
       "    <tr>\n",
       "      <th>4</th>\n",
       "      <td>2014-12-14</td>\n",
       "      <td>Passy</td>\n",
       "      <td>Paris</td>\n",
       "      <td>2</td>\n",
       "      <td>60</td>\n",
       "    </tr>\n",
       "    <tr>\n",
       "      <th>...</th>\n",
       "      <td>...</td>\n",
       "      <td>...</td>\n",
       "      <td>...</td>\n",
       "      <td>...</td>\n",
       "      <td>...</td>\n",
       "    </tr>\n",
       "    <tr>\n",
       "      <th>279707</th>\n",
       "      <td>2015-04-13</td>\n",
       "      <td>Observatoire</td>\n",
       "      <td>Paris</td>\n",
       "      <td>2</td>\n",
       "      <td>120</td>\n",
       "    </tr>\n",
       "    <tr>\n",
       "      <th>279708</th>\n",
       "      <td>2013-11-27</td>\n",
       "      <td>Buttes-Montmartre</td>\n",
       "      <td>Paris</td>\n",
       "      <td>2</td>\n",
       "      <td>60</td>\n",
       "    </tr>\n",
       "    <tr>\n",
       "      <th>279709</th>\n",
       "      <td>2012-04-27</td>\n",
       "      <td>Buttes-Montmartre</td>\n",
       "      <td>Paris</td>\n",
       "      <td>2</td>\n",
       "      <td>50</td>\n",
       "    </tr>\n",
       "    <tr>\n",
       "      <th>279710</th>\n",
       "      <td>2015-07-16</td>\n",
       "      <td>Popincourt</td>\n",
       "      <td>Paris</td>\n",
       "      <td>2</td>\n",
       "      <td>105</td>\n",
       "    </tr>\n",
       "    <tr>\n",
       "      <th>279711</th>\n",
       "      <td>2013-06-17</td>\n",
       "      <td>Enclos-St-Laurent</td>\n",
       "      <td>Paris</td>\n",
       "      <td>2</td>\n",
       "      <td>70</td>\n",
       "    </tr>\n",
       "  </tbody>\n",
       "</table>\n",
       "<p>64595 rows × 5 columns</p>\n",
       "</div>"
      ],
      "text/plain": [
       "       host_since      neighbourhood   city  accommodates  price\n",
       "0      2011-12-03  Buttes-Montmartre  Paris             2     53\n",
       "1      2013-11-29  Buttes-Montmartre  Paris             2    120\n",
       "2      2014-07-31             Elysee  Paris             2     89\n",
       "3      2013-12-17          Vaugirard  Paris             2     58\n",
       "4      2014-12-14              Passy  Paris             2     60\n",
       "...           ...                ...    ...           ...    ...\n",
       "279707 2015-04-13       Observatoire  Paris             2    120\n",
       "279708 2013-11-27  Buttes-Montmartre  Paris             2     60\n",
       "279709 2012-04-27  Buttes-Montmartre  Paris             2     50\n",
       "279710 2015-07-16         Popincourt  Paris             2    105\n",
       "279711 2013-06-17  Enclos-St-Laurent  Paris             2     70\n",
       "\n",
       "[64595 rows x 5 columns]"
      ]
     },
     "execution_count": 30,
     "metadata": {},
     "output_type": "execute_result"
    }
   ],
   "source": [
    "Paris_listings"
   ]
  },
  {
   "cell_type": "code",
   "execution_count": 31,
   "id": "986ac033",
   "metadata": {
    "execution": {
     "iopub.execute_input": "2025-05-12T12:03:47.476691Z",
     "iopub.status.busy": "2025-05-12T12:03:47.476505Z",
     "iopub.status.idle": "2025-05-12T12:03:47.489500Z",
     "shell.execute_reply": "2025-05-12T12:03:47.488835Z"
    },
    "papermill": {
     "duration": 0.024036,
     "end_time": "2025-05-12T12:03:47.490575",
     "exception": false,
     "start_time": "2025-05-12T12:03:47.466539",
     "status": "completed"
    },
    "tags": []
   },
   "outputs": [
    {
     "name": "stdout",
     "output_type": "stream",
     "text": [
      "<class 'pandas.core.frame.DataFrame'>\n",
      "Index: 64595 entries, 0 to 279711\n",
      "Data columns (total 5 columns):\n",
      " #   Column         Non-Null Count  Dtype         \n",
      "---  ------         --------------  -----         \n",
      " 0   host_since     64595 non-null  datetime64[ns]\n",
      " 1   neighbourhood  64595 non-null  object        \n",
      " 2   city           64595 non-null  object        \n",
      " 3   accommodates   64595 non-null  int64         \n",
      " 4   price          64595 non-null  int64         \n",
      "dtypes: datetime64[ns](1), int64(2), object(2)\n",
      "memory usage: 3.0+ MB\n"
     ]
    }
   ],
   "source": [
    "Paris_listings.info()"
   ]
  },
  {
   "cell_type": "code",
   "execution_count": 32,
   "id": "446a665e",
   "metadata": {
    "execution": {
     "iopub.execute_input": "2025-05-12T12:03:47.509999Z",
     "iopub.status.busy": "2025-05-12T12:03:47.509800Z",
     "iopub.status.idle": "2025-05-12T12:03:47.516983Z",
     "shell.execute_reply": "2025-05-12T12:03:47.516218Z"
    },
    "papermill": {
     "duration": 0.01807,
     "end_time": "2025-05-12T12:03:47.518025",
     "exception": false,
     "start_time": "2025-05-12T12:03:47.499955",
     "status": "completed"
    },
    "tags": []
   },
   "outputs": [
    {
     "data": {
      "text/html": [
       "<div>\n",
       "<style scoped>\n",
       "    .dataframe tbody tr th:only-of-type {\n",
       "        vertical-align: middle;\n",
       "    }\n",
       "\n",
       "    .dataframe tbody tr th {\n",
       "        vertical-align: top;\n",
       "    }\n",
       "\n",
       "    .dataframe thead th {\n",
       "        text-align: right;\n",
       "    }\n",
       "</style>\n",
       "<table border=\"1\" class=\"dataframe\">\n",
       "  <thead>\n",
       "    <tr style=\"text-align: right;\">\n",
       "      <th></th>\n",
       "      <th>host_since</th>\n",
       "      <th>neighbourhood</th>\n",
       "      <th>city</th>\n",
       "      <th>accommodates</th>\n",
       "      <th>price</th>\n",
       "    </tr>\n",
       "  </thead>\n",
       "  <tbody>\n",
       "    <tr>\n",
       "      <th>0</th>\n",
       "      <td>2011-12-03</td>\n",
       "      <td>Buttes-Montmartre</td>\n",
       "      <td>Paris</td>\n",
       "      <td>2</td>\n",
       "      <td>53</td>\n",
       "    </tr>\n",
       "    <tr>\n",
       "      <th>1</th>\n",
       "      <td>2013-11-29</td>\n",
       "      <td>Buttes-Montmartre</td>\n",
       "      <td>Paris</td>\n",
       "      <td>2</td>\n",
       "      <td>120</td>\n",
       "    </tr>\n",
       "    <tr>\n",
       "      <th>2</th>\n",
       "      <td>2014-07-31</td>\n",
       "      <td>Elysee</td>\n",
       "      <td>Paris</td>\n",
       "      <td>2</td>\n",
       "      <td>89</td>\n",
       "    </tr>\n",
       "    <tr>\n",
       "      <th>3</th>\n",
       "      <td>2013-12-17</td>\n",
       "      <td>Vaugirard</td>\n",
       "      <td>Paris</td>\n",
       "      <td>2</td>\n",
       "      <td>58</td>\n",
       "    </tr>\n",
       "    <tr>\n",
       "      <th>4</th>\n",
       "      <td>2014-12-14</td>\n",
       "      <td>Passy</td>\n",
       "      <td>Paris</td>\n",
       "      <td>2</td>\n",
       "      <td>60</td>\n",
       "    </tr>\n",
       "  </tbody>\n",
       "</table>\n",
       "</div>"
      ],
      "text/plain": [
       "  host_since      neighbourhood   city  accommodates  price\n",
       "0 2011-12-03  Buttes-Montmartre  Paris             2     53\n",
       "1 2013-11-29  Buttes-Montmartre  Paris             2    120\n",
       "2 2014-07-31             Elysee  Paris             2     89\n",
       "3 2013-12-17          Vaugirard  Paris             2     58\n",
       "4 2014-12-14              Passy  Paris             2     60"
      ]
     },
     "execution_count": 32,
     "metadata": {},
     "output_type": "execute_result"
    }
   ],
   "source": [
    "Paris_listings.head()"
   ]
  },
  {
   "cell_type": "markdown",
   "id": "81c16722",
   "metadata": {
    "papermill": {
     "duration": 0.010133,
     "end_time": "2025-05-12T12:03:47.537577",
     "exception": false,
     "start_time": "2025-05-12T12:03:47.527444",
     "status": "completed"
    },
    "tags": []
   },
   "source": [
    "<div style=\"background-color: #f88379; padding: 25px; border-radius: 10px;\">\n",
    "  <h1 style=\"color: #333;\"><strong>Finding average Price of AirBnB in Paris as per Localities</strong></h1>\n",
    "</div>"
   ]
  },
  {
   "cell_type": "code",
   "execution_count": 33,
   "id": "f83bfa7b",
   "metadata": {
    "execution": {
     "iopub.execute_input": "2025-05-12T12:03:47.561031Z",
     "iopub.status.busy": "2025-05-12T12:03:47.560832Z",
     "iopub.status.idle": "2025-05-12T12:03:47.571386Z",
     "shell.execute_reply": "2025-05-12T12:03:47.570709Z"
    },
    "papermill": {
     "duration": 0.021666,
     "end_time": "2025-05-12T12:03:47.572349",
     "exception": false,
     "start_time": "2025-05-12T12:03:47.550683",
     "status": "completed"
    },
    "tags": []
   },
   "outputs": [],
   "source": [
    "Paris_listings_neighbourhood = Paris_listings.groupby(\"neighbourhood\").agg({\"price\":\"mean\"}).sort_values(\"price\",ascending = False)"
   ]
  },
  {
   "cell_type": "code",
   "execution_count": 34,
   "id": "2e8a3d41",
   "metadata": {
    "execution": {
     "iopub.execute_input": "2025-05-12T12:03:47.592728Z",
     "iopub.status.busy": "2025-05-12T12:03:47.592241Z",
     "iopub.status.idle": "2025-05-12T12:03:47.598743Z",
     "shell.execute_reply": "2025-05-12T12:03:47.598165Z"
    },
    "papermill": {
     "duration": 0.017776,
     "end_time": "2025-05-12T12:03:47.599765",
     "exception": false,
     "start_time": "2025-05-12T12:03:47.581989",
     "status": "completed"
    },
    "tags": []
   },
   "outputs": [
    {
     "data": {
      "text/html": [
       "<div>\n",
       "<style scoped>\n",
       "    .dataframe tbody tr th:only-of-type {\n",
       "        vertical-align: middle;\n",
       "    }\n",
       "\n",
       "    .dataframe tbody tr th {\n",
       "        vertical-align: top;\n",
       "    }\n",
       "\n",
       "    .dataframe thead th {\n",
       "        text-align: right;\n",
       "    }\n",
       "</style>\n",
       "<table border=\"1\" class=\"dataframe\">\n",
       "  <thead>\n",
       "    <tr style=\"text-align: right;\">\n",
       "      <th></th>\n",
       "      <th>price</th>\n",
       "    </tr>\n",
       "    <tr>\n",
       "      <th>neighbourhood</th>\n",
       "      <th></th>\n",
       "    </tr>\n",
       "  </thead>\n",
       "  <tbody>\n",
       "    <tr>\n",
       "      <th>Elysee</th>\n",
       "      <td>211.373651</td>\n",
       "    </tr>\n",
       "    <tr>\n",
       "      <th>Louvre</th>\n",
       "      <td>175.754448</td>\n",
       "    </tr>\n",
       "    <tr>\n",
       "      <th>Passy</th>\n",
       "      <td>161.290875</td>\n",
       "    </tr>\n",
       "    <tr>\n",
       "      <th>Palais-Bourbon</th>\n",
       "      <td>157.514464</td>\n",
       "    </tr>\n",
       "    <tr>\n",
       "      <th>Luxembourg</th>\n",
       "      <td>155.794589</td>\n",
       "    </tr>\n",
       "    <tr>\n",
       "      <th>Bourse</th>\n",
       "      <td>149.633577</td>\n",
       "    </tr>\n",
       "    <tr>\n",
       "      <th>Hotel-de-Ville</th>\n",
       "      <td>144.515228</td>\n",
       "    </tr>\n",
       "    <tr>\n",
       "      <th>Temple</th>\n",
       "      <td>138.429300</td>\n",
       "    </tr>\n",
       "    <tr>\n",
       "      <th>Pantheon</th>\n",
       "      <td>122.983599</td>\n",
       "    </tr>\n",
       "    <tr>\n",
       "      <th>Opera</th>\n",
       "      <td>119.201841</td>\n",
       "    </tr>\n",
       "    <tr>\n",
       "      <th>Vaugirard</th>\n",
       "      <td>107.086207</td>\n",
       "    </tr>\n",
       "    <tr>\n",
       "      <th>Enclos-St-Laurent</th>\n",
       "      <td>103.122590</td>\n",
       "    </tr>\n",
       "    <tr>\n",
       "      <th>Batignolles-Monceau</th>\n",
       "      <td>102.686778</td>\n",
       "    </tr>\n",
       "    <tr>\n",
       "      <th>Observatoire</th>\n",
       "      <td>101.996775</td>\n",
       "    </tr>\n",
       "    <tr>\n",
       "      <th>Gobelins</th>\n",
       "      <td>98.110184</td>\n",
       "    </tr>\n",
       "    <tr>\n",
       "      <th>Popincourt</th>\n",
       "      <td>90.548168</td>\n",
       "    </tr>\n",
       "    <tr>\n",
       "      <th>Reuilly</th>\n",
       "      <td>89.125566</td>\n",
       "    </tr>\n",
       "    <tr>\n",
       "      <th>Buttes-Montmartre</th>\n",
       "      <td>87.246196</td>\n",
       "    </tr>\n",
       "    <tr>\n",
       "      <th>Buttes-Chaumont</th>\n",
       "      <td>82.690182</td>\n",
       "    </tr>\n",
       "    <tr>\n",
       "      <th>Menilmontant</th>\n",
       "      <td>74.931521</td>\n",
       "    </tr>\n",
       "  </tbody>\n",
       "</table>\n",
       "</div>"
      ],
      "text/plain": [
       "                          price\n",
       "neighbourhood                  \n",
       "Elysee               211.373651\n",
       "Louvre               175.754448\n",
       "Passy                161.290875\n",
       "Palais-Bourbon       157.514464\n",
       "Luxembourg           155.794589\n",
       "Bourse               149.633577\n",
       "Hotel-de-Ville       144.515228\n",
       "Temple               138.429300\n",
       "Pantheon             122.983599\n",
       "Opera                119.201841\n",
       "Vaugirard            107.086207\n",
       "Enclos-St-Laurent    103.122590\n",
       "Batignolles-Monceau  102.686778\n",
       "Observatoire         101.996775\n",
       "Gobelins              98.110184\n",
       "Popincourt            90.548168\n",
       "Reuilly               89.125566\n",
       "Buttes-Montmartre     87.246196\n",
       "Buttes-Chaumont       82.690182\n",
       "Menilmontant          74.931521"
      ]
     },
     "execution_count": 34,
     "metadata": {},
     "output_type": "execute_result"
    }
   ],
   "source": [
    "Paris_listings_neighbourhood"
   ]
  },
  {
   "cell_type": "code",
   "execution_count": 35,
   "id": "ceecc65d",
   "metadata": {
    "execution": {
     "iopub.execute_input": "2025-05-12T12:03:47.619870Z",
     "iopub.status.busy": "2025-05-12T12:03:47.619683Z",
     "iopub.status.idle": "2025-05-12T12:03:47.625385Z",
     "shell.execute_reply": "2025-05-12T12:03:47.624610Z"
    },
    "papermill": {
     "duration": 0.017052,
     "end_time": "2025-05-12T12:03:47.626393",
     "exception": false,
     "start_time": "2025-05-12T12:03:47.609341",
     "status": "completed"
    },
    "tags": []
   },
   "outputs": [],
   "source": [
    "Paris_listings_accommodates = Paris_listings.groupby(\"accommodates\").agg({\"price\":\"mean\"}).sort_values(\"price\",ascending = False)"
   ]
  },
  {
   "cell_type": "code",
   "execution_count": 36,
   "id": "8aa7da09",
   "metadata": {
    "execution": {
     "iopub.execute_input": "2025-05-12T12:03:47.646422Z",
     "iopub.status.busy": "2025-05-12T12:03:47.646219Z",
     "iopub.status.idle": "2025-05-12T12:03:47.652397Z",
     "shell.execute_reply": "2025-05-12T12:03:47.651647Z"
    },
    "papermill": {
     "duration": 0.01723,
     "end_time": "2025-05-12T12:03:47.653421",
     "exception": false,
     "start_time": "2025-05-12T12:03:47.636191",
     "status": "completed"
    },
    "tags": []
   },
   "outputs": [
    {
     "data": {
      "text/html": [
       "<div>\n",
       "<style scoped>\n",
       "    .dataframe tbody tr th:only-of-type {\n",
       "        vertical-align: middle;\n",
       "    }\n",
       "\n",
       "    .dataframe tbody tr th {\n",
       "        vertical-align: top;\n",
       "    }\n",
       "\n",
       "    .dataframe thead th {\n",
       "        text-align: right;\n",
       "    }\n",
       "</style>\n",
       "<table border=\"1\" class=\"dataframe\">\n",
       "  <thead>\n",
       "    <tr style=\"text-align: right;\">\n",
       "      <th></th>\n",
       "      <th>price</th>\n",
       "    </tr>\n",
       "    <tr>\n",
       "      <th>accommodates</th>\n",
       "      <th></th>\n",
       "    </tr>\n",
       "  </thead>\n",
       "  <tbody>\n",
       "    <tr>\n",
       "      <th>15</th>\n",
       "      <td>928.416667</td>\n",
       "    </tr>\n",
       "    <tr>\n",
       "      <th>12</th>\n",
       "      <td>821.434211</td>\n",
       "    </tr>\n",
       "    <tr>\n",
       "      <th>13</th>\n",
       "      <td>704.578947</td>\n",
       "    </tr>\n",
       "    <tr>\n",
       "      <th>14</th>\n",
       "      <td>699.230769</td>\n",
       "    </tr>\n",
       "    <tr>\n",
       "      <th>11</th>\n",
       "      <td>680.911765</td>\n",
       "    </tr>\n",
       "    <tr>\n",
       "      <th>16</th>\n",
       "      <td>677.060606</td>\n",
       "    </tr>\n",
       "    <tr>\n",
       "      <th>10</th>\n",
       "      <td>585.756219</td>\n",
       "    </tr>\n",
       "    <tr>\n",
       "      <th>9</th>\n",
       "      <td>381.900000</td>\n",
       "    </tr>\n",
       "    <tr>\n",
       "      <th>8</th>\n",
       "      <td>325.022440</td>\n",
       "    </tr>\n",
       "    <tr>\n",
       "      <th>7</th>\n",
       "      <td>261.065957</td>\n",
       "    </tr>\n",
       "    <tr>\n",
       "      <th>6</th>\n",
       "      <td>217.193198</td>\n",
       "    </tr>\n",
       "    <tr>\n",
       "      <th>5</th>\n",
       "      <td>165.191455</td>\n",
       "    </tr>\n",
       "    <tr>\n",
       "      <th>4</th>\n",
       "      <td>125.997595</td>\n",
       "    </tr>\n",
       "    <tr>\n",
       "      <th>3</th>\n",
       "      <td>98.295913</td>\n",
       "    </tr>\n",
       "    <tr>\n",
       "      <th>2</th>\n",
       "      <td>84.093921</td>\n",
       "    </tr>\n",
       "    <tr>\n",
       "      <th>1</th>\n",
       "      <td>64.847055</td>\n",
       "    </tr>\n",
       "  </tbody>\n",
       "</table>\n",
       "</div>"
      ],
      "text/plain": [
       "                   price\n",
       "accommodates            \n",
       "15            928.416667\n",
       "12            821.434211\n",
       "13            704.578947\n",
       "14            699.230769\n",
       "11            680.911765\n",
       "16            677.060606\n",
       "10            585.756219\n",
       "9             381.900000\n",
       "8             325.022440\n",
       "7             261.065957\n",
       "6             217.193198\n",
       "5             165.191455\n",
       "4             125.997595\n",
       "3              98.295913\n",
       "2              84.093921\n",
       "1              64.847055"
      ]
     },
     "execution_count": 36,
     "metadata": {},
     "output_type": "execute_result"
    }
   ],
   "source": [
    "Paris_listings_accommodates "
   ]
  },
  {
   "cell_type": "code",
   "execution_count": 37,
   "id": "bd9431e1",
   "metadata": {
    "execution": {
     "iopub.execute_input": "2025-05-12T12:03:47.681038Z",
     "iopub.status.busy": "2025-05-12T12:03:47.680573Z",
     "iopub.status.idle": "2025-05-12T12:03:47.694541Z",
     "shell.execute_reply": "2025-05-12T12:03:47.693762Z"
    },
    "papermill": {
     "duration": 0.02901,
     "end_time": "2025-05-12T12:03:47.695885",
     "exception": false,
     "start_time": "2025-05-12T12:03:47.666875",
     "status": "completed"
    },
    "tags": []
   },
   "outputs": [],
   "source": [
    "elysee_listings_accommodates = Paris_listings.query(\"neighbourhood =='Elysee' \").groupby(\"accommodates\").agg({\"price\":\"mean\"}).sort_values(\"price\",ascending = False)"
   ]
  },
  {
   "cell_type": "code",
   "execution_count": 38,
   "id": "65f564a7",
   "metadata": {
    "execution": {
     "iopub.execute_input": "2025-05-12T12:03:47.718985Z",
     "iopub.status.busy": "2025-05-12T12:03:47.718386Z",
     "iopub.status.idle": "2025-05-12T12:03:47.728087Z",
     "shell.execute_reply": "2025-05-12T12:03:47.726700Z"
    },
    "papermill": {
     "duration": 0.021909,
     "end_time": "2025-05-12T12:03:47.729265",
     "exception": false,
     "start_time": "2025-05-12T12:03:47.707356",
     "status": "completed"
    },
    "tags": []
   },
   "outputs": [
    {
     "data": {
      "text/html": [
       "<div>\n",
       "<style scoped>\n",
       "    .dataframe tbody tr th:only-of-type {\n",
       "        vertical-align: middle;\n",
       "    }\n",
       "\n",
       "    .dataframe tbody tr th {\n",
       "        vertical-align: top;\n",
       "    }\n",
       "\n",
       "    .dataframe thead th {\n",
       "        text-align: right;\n",
       "    }\n",
       "</style>\n",
       "<table border=\"1\" class=\"dataframe\">\n",
       "  <thead>\n",
       "    <tr style=\"text-align: right;\">\n",
       "      <th></th>\n",
       "      <th>price</th>\n",
       "    </tr>\n",
       "    <tr>\n",
       "      <th>accommodates</th>\n",
       "      <th></th>\n",
       "    </tr>\n",
       "  </thead>\n",
       "  <tbody>\n",
       "    <tr>\n",
       "      <th>14</th>\n",
       "      <td>971.000000</td>\n",
       "    </tr>\n",
       "    <tr>\n",
       "      <th>13</th>\n",
       "      <td>842.500000</td>\n",
       "    </tr>\n",
       "    <tr>\n",
       "      <th>11</th>\n",
       "      <td>805.000000</td>\n",
       "    </tr>\n",
       "    <tr>\n",
       "      <th>16</th>\n",
       "      <td>800.000000</td>\n",
       "    </tr>\n",
       "    <tr>\n",
       "      <th>12</th>\n",
       "      <td>529.625000</td>\n",
       "    </tr>\n",
       "    <tr>\n",
       "      <th>10</th>\n",
       "      <td>500.857143</td>\n",
       "    </tr>\n",
       "    <tr>\n",
       "      <th>9</th>\n",
       "      <td>440.272727</td>\n",
       "    </tr>\n",
       "    <tr>\n",
       "      <th>7</th>\n",
       "      <td>411.538462</td>\n",
       "    </tr>\n",
       "    <tr>\n",
       "      <th>8</th>\n",
       "      <td>405.518519</td>\n",
       "    </tr>\n",
       "    <tr>\n",
       "      <th>6</th>\n",
       "      <td>355.508571</td>\n",
       "    </tr>\n",
       "    <tr>\n",
       "      <th>5</th>\n",
       "      <td>328.817073</td>\n",
       "    </tr>\n",
       "    <tr>\n",
       "      <th>4</th>\n",
       "      <td>212.096070</td>\n",
       "    </tr>\n",
       "    <tr>\n",
       "      <th>2</th>\n",
       "      <td>155.103352</td>\n",
       "    </tr>\n",
       "    <tr>\n",
       "      <th>3</th>\n",
       "      <td>153.882759</td>\n",
       "    </tr>\n",
       "    <tr>\n",
       "      <th>1</th>\n",
       "      <td>79.522222</td>\n",
       "    </tr>\n",
       "  </tbody>\n",
       "</table>\n",
       "</div>"
      ],
      "text/plain": [
       "                   price\n",
       "accommodates            \n",
       "14            971.000000\n",
       "13            842.500000\n",
       "11            805.000000\n",
       "16            800.000000\n",
       "12            529.625000\n",
       "10            500.857143\n",
       "9             440.272727\n",
       "7             411.538462\n",
       "8             405.518519\n",
       "6             355.508571\n",
       "5             328.817073\n",
       "4             212.096070\n",
       "2             155.103352\n",
       "3             153.882759\n",
       "1              79.522222"
      ]
     },
     "execution_count": 38,
     "metadata": {},
     "output_type": "execute_result"
    }
   ],
   "source": [
    "elysee_listings_accommodates"
   ]
  },
  {
   "cell_type": "code",
   "execution_count": 39,
   "id": "5e483851",
   "metadata": {
    "execution": {
     "iopub.execute_input": "2025-05-12T12:03:47.754521Z",
     "iopub.status.busy": "2025-05-12T12:03:47.754328Z",
     "iopub.status.idle": "2025-05-12T12:03:47.757394Z",
     "shell.execute_reply": "2025-05-12T12:03:47.756737Z"
    },
    "papermill": {
     "duration": 0.015751,
     "end_time": "2025-05-12T12:03:47.758371",
     "exception": false,
     "start_time": "2025-05-12T12:03:47.742620",
     "status": "completed"
    },
    "tags": []
   },
   "outputs": [],
   "source": [
    "# INSIDE THE PARIS , THE PRICE OF AIRBNB IS DIRECTLY IMPACTED BT THE POPULARITY OF THE TOURIST PLACES OR\n",
    "# THE VIEW OF EIFFEL TOWER . WE NEED TO FURTHER SEE IF THE PRICES ARE INCREASING WHEN THE REGULATION ARE IMPOSED"
   ]
  },
  {
   "cell_type": "code",
   "execution_count": 40,
   "id": "ad26cb9c",
   "metadata": {
    "execution": {
     "iopub.execute_input": "2025-05-12T12:03:47.779334Z",
     "iopub.status.busy": "2025-05-12T12:03:47.779138Z",
     "iopub.status.idle": "2025-05-12T12:03:47.781981Z",
     "shell.execute_reply": "2025-05-12T12:03:47.781383Z"
    },
    "papermill": {
     "duration": 0.014842,
     "end_time": "2025-05-12T12:03:47.783046",
     "exception": false,
     "start_time": "2025-05-12T12:03:47.768204",
     "status": "completed"
    },
    "tags": []
   },
   "outputs": [],
   "source": [
    "# THE AIRBNB WITH 14 PEOPLE ACCOMMODATES IS THE EXPENSIVE , EVEN MORE EXPENSIVE THE 16 ACCOMMODATES\n",
    "# THE SAME TREND IS SPOTTED FOR 11 AND 12 ACCOMMODATES .EVERY OTHER ACCOMMODATION LOOKS REASONABLE"
   ]
  },
  {
   "cell_type": "markdown",
   "id": "e4ff4ea8",
   "metadata": {
    "papermill": {
     "duration": 0.009896,
     "end_time": "2025-05-12T12:03:47.802971",
     "exception": false,
     "start_time": "2025-05-12T12:03:47.793075",
     "status": "completed"
    },
    "tags": []
   },
   "source": [
    "#Possible reasons for this trend\n",
    "\n",
    "1. Owners of properties with 16 people might face occupancy issues due to less number of large groups.\n",
    "2. The ones with 14 people might be a sweet spot for a group having two families travelling.\n",
    "3. There is possibility that more than 16 and 12 occupancy properties are away from hotspots in Elysee.\n",
    "4. There might be potential outliers in 11 and 14 occupancy properties which are skewing the trend."
   ]
  },
  {
   "cell_type": "code",
   "execution_count": 41,
   "id": "96c9f446",
   "metadata": {
    "execution": {
     "iopub.execute_input": "2025-05-12T12:03:47.823902Z",
     "iopub.status.busy": "2025-05-12T12:03:47.823683Z",
     "iopub.status.idle": "2025-05-12T12:03:47.829751Z",
     "shell.execute_reply": "2025-05-12T12:03:47.829195Z"
    },
    "papermill": {
     "duration": 0.017903,
     "end_time": "2025-05-12T12:03:47.830853",
     "exception": false,
     "start_time": "2025-05-12T12:03:47.812950",
     "status": "completed"
    },
    "tags": []
   },
   "outputs": [
    {
     "data": {
      "text/plain": [
       "3854"
      ]
     },
     "execution_count": 41,
     "metadata": {},
     "output_type": "execute_result"
    }
   ],
   "source": [
    "Paris_listings[\"host_since\"].nunique()"
   ]
  },
  {
   "cell_type": "markdown",
   "id": "56d8543c",
   "metadata": {
    "papermill": {
     "duration": 0.009827,
     "end_time": "2025-05-12T12:03:47.850895",
     "exception": false,
     "start_time": "2025-05-12T12:03:47.841068",
     "status": "completed"
    },
    "tags": []
   },
   "source": [
    "<div style=\"background-color: #f88379; padding: 25px; border-radius: 10px;\">\n",
    "  <h1 style=\"color: #333;\"><strong>Finding popularity of AirBnB over time</strong></h1>\n",
    "</div>"
   ]
  },
  {
   "cell_type": "code",
   "execution_count": 42,
   "id": "28143c6c",
   "metadata": {
    "execution": {
     "iopub.execute_input": "2025-05-12T12:03:47.871557Z",
     "iopub.status.busy": "2025-05-12T12:03:47.871365Z",
     "iopub.status.idle": "2025-05-12T12:03:47.904870Z",
     "shell.execute_reply": "2025-05-12T12:03:47.904342Z"
    },
    "papermill": {
     "duration": 0.044993,
     "end_time": "2025-05-12T12:03:47.905939",
     "exception": false,
     "start_time": "2025-05-12T12:03:47.860946",
     "status": "completed"
    },
    "tags": []
   },
   "outputs": [],
   "source": [
    "Paris_listings_over_time = Paris_listings.set_index(\"host_since\").resample(\"y\").agg({\"neighbourhood\":\"count\",\"price\":\"mean\"})"
   ]
  },
  {
   "cell_type": "code",
   "execution_count": 43,
   "id": "77ad68c5",
   "metadata": {
    "execution": {
     "iopub.execute_input": "2025-05-12T12:03:47.926595Z",
     "iopub.status.busy": "2025-05-12T12:03:47.926400Z",
     "iopub.status.idle": "2025-05-12T12:03:47.932886Z",
     "shell.execute_reply": "2025-05-12T12:03:47.932305Z"
    },
    "papermill": {
     "duration": 0.018177,
     "end_time": "2025-05-12T12:03:47.934045",
     "exception": false,
     "start_time": "2025-05-12T12:03:47.915868",
     "status": "completed"
    },
    "tags": []
   },
   "outputs": [
    {
     "data": {
      "text/html": [
       "<div>\n",
       "<style scoped>\n",
       "    .dataframe tbody tr th:only-of-type {\n",
       "        vertical-align: middle;\n",
       "    }\n",
       "\n",
       "    .dataframe tbody tr th {\n",
       "        vertical-align: top;\n",
       "    }\n",
       "\n",
       "    .dataframe thead th {\n",
       "        text-align: right;\n",
       "    }\n",
       "</style>\n",
       "<table border=\"1\" class=\"dataframe\">\n",
       "  <thead>\n",
       "    <tr style=\"text-align: right;\">\n",
       "      <th></th>\n",
       "      <th>neighbourhood</th>\n",
       "      <th>price</th>\n",
       "    </tr>\n",
       "    <tr>\n",
       "      <th>host_since</th>\n",
       "      <th></th>\n",
       "      <th></th>\n",
       "    </tr>\n",
       "  </thead>\n",
       "  <tbody>\n",
       "    <tr>\n",
       "      <th>2008-12-31</th>\n",
       "      <td>4</td>\n",
       "      <td>77.750000</td>\n",
       "    </tr>\n",
       "    <tr>\n",
       "      <th>2009-12-31</th>\n",
       "      <td>106</td>\n",
       "      <td>159.641509</td>\n",
       "    </tr>\n",
       "    <tr>\n",
       "      <th>2010-12-31</th>\n",
       "      <td>416</td>\n",
       "      <td>125.031250</td>\n",
       "    </tr>\n",
       "    <tr>\n",
       "      <th>2011-12-31</th>\n",
       "      <td>1339</td>\n",
       "      <td>124.828230</td>\n",
       "    </tr>\n",
       "    <tr>\n",
       "      <th>2012-12-31</th>\n",
       "      <td>4592</td>\n",
       "      <td>111.578615</td>\n",
       "    </tr>\n",
       "    <tr>\n",
       "      <th>2013-12-31</th>\n",
       "      <td>8142</td>\n",
       "      <td>107.096414</td>\n",
       "    </tr>\n",
       "    <tr>\n",
       "      <th>2014-12-31</th>\n",
       "      <td>10922</td>\n",
       "      <td>100.253800</td>\n",
       "    </tr>\n",
       "    <tr>\n",
       "      <th>2015-12-31</th>\n",
       "      <td>12147</td>\n",
       "      <td>103.646250</td>\n",
       "    </tr>\n",
       "    <tr>\n",
       "      <th>2016-12-31</th>\n",
       "      <td>8867</td>\n",
       "      <td>114.211345</td>\n",
       "    </tr>\n",
       "    <tr>\n",
       "      <th>2017-12-31</th>\n",
       "      <td>4585</td>\n",
       "      <td>108.658888</td>\n",
       "    </tr>\n",
       "    <tr>\n",
       "      <th>2018-12-31</th>\n",
       "      <td>4294</td>\n",
       "      <td>138.209362</td>\n",
       "    </tr>\n",
       "    <tr>\n",
       "      <th>2019-12-31</th>\n",
       "      <td>5685</td>\n",
       "      <td>129.962533</td>\n",
       "    </tr>\n",
       "    <tr>\n",
       "      <th>2020-12-31</th>\n",
       "      <td>3363</td>\n",
       "      <td>143.517098</td>\n",
       "    </tr>\n",
       "    <tr>\n",
       "      <th>2021-12-31</th>\n",
       "      <td>133</td>\n",
       "      <td>93.488722</td>\n",
       "    </tr>\n",
       "  </tbody>\n",
       "</table>\n",
       "</div>"
      ],
      "text/plain": [
       "            neighbourhood       price\n",
       "host_since                           \n",
       "2008-12-31              4   77.750000\n",
       "2009-12-31            106  159.641509\n",
       "2010-12-31            416  125.031250\n",
       "2011-12-31           1339  124.828230\n",
       "2012-12-31           4592  111.578615\n",
       "2013-12-31           8142  107.096414\n",
       "2014-12-31          10922  100.253800\n",
       "2015-12-31          12147  103.646250\n",
       "2016-12-31           8867  114.211345\n",
       "2017-12-31           4585  108.658888\n",
       "2018-12-31           4294  138.209362\n",
       "2019-12-31           5685  129.962533\n",
       "2020-12-31           3363  143.517098\n",
       "2021-12-31            133   93.488722"
      ]
     },
     "execution_count": 43,
     "metadata": {},
     "output_type": "execute_result"
    }
   ],
   "source": [
    "Paris_listings_over_time"
   ]
  },
  {
   "cell_type": "code",
   "execution_count": 44,
   "id": "20e096ab",
   "metadata": {
    "execution": {
     "iopub.execute_input": "2025-05-12T12:03:47.955686Z",
     "iopub.status.busy": "2025-05-12T12:03:47.955513Z",
     "iopub.status.idle": "2025-05-12T12:03:49.366063Z",
     "shell.execute_reply": "2025-05-12T12:03:49.365476Z"
    },
    "papermill": {
     "duration": 1.422536,
     "end_time": "2025-05-12T12:03:49.367358",
     "exception": false,
     "start_time": "2025-05-12T12:03:47.944822",
     "status": "completed"
    },
    "tags": []
   },
   "outputs": [],
   "source": [
    "import matplotlib.pyplot as plt\n",
    "import seaborn as sns"
   ]
  },
  {
   "cell_type": "code",
   "execution_count": 45,
   "id": "300e5f7e",
   "metadata": {
    "execution": {
     "iopub.execute_input": "2025-05-12T12:03:49.389396Z",
     "iopub.status.busy": "2025-05-12T12:03:49.389140Z",
     "iopub.status.idle": "2025-05-12T12:03:49.773952Z",
     "shell.execute_reply": "2025-05-12T12:03:49.773267Z"
    },
    "papermill": {
     "duration": 0.397085,
     "end_time": "2025-05-12T12:03:49.775312",
     "exception": false,
     "start_time": "2025-05-12T12:03:49.378227",
     "status": "completed"
    },
    "tags": []
   },
   "outputs": [
    {
     "data": {
      "text/plain": [
       "Text(0, 0.5, 'prominant places with AirBnBs')"
      ]
     },
     "execution_count": 45,
     "metadata": {},
     "output_type": "execute_result"
    },
    {
     "data": {
      "image/png": "[encoded data removed]",
      "text/plain": [
       "<Figure size 1000x800 with 1 Axes>"
      ]
     },
     "metadata": {},
     "output_type": "display_data"
    }
   ],
   "source": [
    "plt.figure(figsize = (10,8))\n",
    "sns.barplot(data = Paris_listings_neighbourhood,\n",
    "            x = \"price\",\n",
    "            y = Paris_listings_neighbourhood.index,\n",
    "            color = \"#FF5A5F\")\n",
    "plt.title(\"neighbourhoods in paris(premium localities at the top)\")\n",
    "plt.xlabel(\"how expensive ?(euros)\")\n",
    "plt.ylabel(\"prominant places with AirBnBs\")"
   ]
  },
  {
   "cell_type": "code",
   "execution_count": 46,
   "id": "e00b2a51",
   "metadata": {
    "execution": {
     "iopub.execute_input": "2025-05-12T12:03:49.799246Z",
     "iopub.status.busy": "2025-05-12T12:03:49.799061Z",
     "iopub.status.idle": "2025-05-12T12:03:49.997769Z",
     "shell.execute_reply": "2025-05-12T12:03:49.997034Z"
    },
    "papermill": {
     "duration": 0.211342,
     "end_time": "2025-05-12T12:03:49.998800",
     "exception": false,
     "start_time": "2025-05-12T12:03:49.787458",
     "status": "completed"
    },
    "tags": []
   },
   "outputs": [
    {
     "data": {
      "image/png": "[encoded data removed]",
      "text/plain": [
       "<Figure size 1000x800 with 1 Axes>"
      ]
     },
     "metadata": {},
     "output_type": "display_data"
    }
   ],
   "source": [
    "plt.figure(figsize = (10,8))\n",
    "sns.barplot(data = elysee_listings_accommodates,\n",
    "            x = \"price\",\n",
    "            y = elysee_listings_accommodates.index,\n",
    "            color = \"green\",\n",
    "           orient =\"h\",\n",
    "           order = elysee_listings_accommodates.index)\n",
    "plt.title(\" Average price of AirBnB in elysee -- vs -- number of people that can stay\")\n",
    "plt.xlabel(\"Average price(euros)\")\n",
    "plt.ylabel(\"Number of people that can stay \")\n",
    "plt.show()"
   ]
  },
  {
   "cell_type": "code",
   "execution_count": 47,
   "id": "77561243",
   "metadata": {
    "execution": {
     "iopub.execute_input": "2025-05-12T12:03:50.022707Z",
     "iopub.status.busy": "2025-05-12T12:03:50.022517Z",
     "iopub.status.idle": "2025-05-12T12:03:50.029223Z",
     "shell.execute_reply": "2025-05-12T12:03:50.028532Z"
    },
    "papermill": {
     "duration": 0.019815,
     "end_time": "2025-05-12T12:03:50.030224",
     "exception": false,
     "start_time": "2025-05-12T12:03:50.010409",
     "status": "completed"
    },
    "tags": []
   },
   "outputs": [
    {
     "data": {
      "text/html": [
       "<div>\n",
       "<style scoped>\n",
       "    .dataframe tbody tr th:only-of-type {\n",
       "        vertical-align: middle;\n",
       "    }\n",
       "\n",
       "    .dataframe tbody tr th {\n",
       "        vertical-align: top;\n",
       "    }\n",
       "\n",
       "    .dataframe thead th {\n",
       "        text-align: right;\n",
       "    }\n",
       "</style>\n",
       "<table border=\"1\" class=\"dataframe\">\n",
       "  <thead>\n",
       "    <tr style=\"text-align: right;\">\n",
       "      <th></th>\n",
       "      <th>neighbourhood</th>\n",
       "      <th>price</th>\n",
       "    </tr>\n",
       "    <tr>\n",
       "      <th>host_since</th>\n",
       "      <th></th>\n",
       "      <th></th>\n",
       "    </tr>\n",
       "  </thead>\n",
       "  <tbody>\n",
       "    <tr>\n",
       "      <th>2008-12-31</th>\n",
       "      <td>4</td>\n",
       "      <td>77.750000</td>\n",
       "    </tr>\n",
       "    <tr>\n",
       "      <th>2009-12-31</th>\n",
       "      <td>106</td>\n",
       "      <td>159.641509</td>\n",
       "    </tr>\n",
       "    <tr>\n",
       "      <th>2010-12-31</th>\n",
       "      <td>416</td>\n",
       "      <td>125.031250</td>\n",
       "    </tr>\n",
       "    <tr>\n",
       "      <th>2011-12-31</th>\n",
       "      <td>1339</td>\n",
       "      <td>124.828230</td>\n",
       "    </tr>\n",
       "    <tr>\n",
       "      <th>2012-12-31</th>\n",
       "      <td>4592</td>\n",
       "      <td>111.578615</td>\n",
       "    </tr>\n",
       "    <tr>\n",
       "      <th>2013-12-31</th>\n",
       "      <td>8142</td>\n",
       "      <td>107.096414</td>\n",
       "    </tr>\n",
       "    <tr>\n",
       "      <th>2014-12-31</th>\n",
       "      <td>10922</td>\n",
       "      <td>100.253800</td>\n",
       "    </tr>\n",
       "    <tr>\n",
       "      <th>2015-12-31</th>\n",
       "      <td>12147</td>\n",
       "      <td>103.646250</td>\n",
       "    </tr>\n",
       "    <tr>\n",
       "      <th>2016-12-31</th>\n",
       "      <td>8867</td>\n",
       "      <td>114.211345</td>\n",
       "    </tr>\n",
       "    <tr>\n",
       "      <th>2017-12-31</th>\n",
       "      <td>4585</td>\n",
       "      <td>108.658888</td>\n",
       "    </tr>\n",
       "    <tr>\n",
       "      <th>2018-12-31</th>\n",
       "      <td>4294</td>\n",
       "      <td>138.209362</td>\n",
       "    </tr>\n",
       "    <tr>\n",
       "      <th>2019-12-31</th>\n",
       "      <td>5685</td>\n",
       "      <td>129.962533</td>\n",
       "    </tr>\n",
       "    <tr>\n",
       "      <th>2020-12-31</th>\n",
       "      <td>3363</td>\n",
       "      <td>143.517098</td>\n",
       "    </tr>\n",
       "    <tr>\n",
       "      <th>2021-12-31</th>\n",
       "      <td>133</td>\n",
       "      <td>93.488722</td>\n",
       "    </tr>\n",
       "  </tbody>\n",
       "</table>\n",
       "</div>"
      ],
      "text/plain": [
       "            neighbourhood       price\n",
       "host_since                           \n",
       "2008-12-31              4   77.750000\n",
       "2009-12-31            106  159.641509\n",
       "2010-12-31            416  125.031250\n",
       "2011-12-31           1339  124.828230\n",
       "2012-12-31           4592  111.578615\n",
       "2013-12-31           8142  107.096414\n",
       "2014-12-31          10922  100.253800\n",
       "2015-12-31          12147  103.646250\n",
       "2016-12-31           8867  114.211345\n",
       "2017-12-31           4585  108.658888\n",
       "2018-12-31           4294  138.209362\n",
       "2019-12-31           5685  129.962533\n",
       "2020-12-31           3363  143.517098\n",
       "2021-12-31            133   93.488722"
      ]
     },
     "execution_count": 47,
     "metadata": {},
     "output_type": "execute_result"
    }
   ],
   "source": [
    "Paris_listings_over_time "
   ]
  },
  {
   "cell_type": "code",
   "execution_count": 48,
   "id": "d4b0bc46",
   "metadata": {
    "execution": {
     "iopub.execute_input": "2025-05-12T12:03:50.054290Z",
     "iopub.status.busy": "2025-05-12T12:03:50.054086Z",
     "iopub.status.idle": "2025-05-12T12:03:50.259978Z",
     "shell.execute_reply": "2025-05-12T12:03:50.259321Z"
    },
    "papermill": {
     "duration": 0.218978,
     "end_time": "2025-05-12T12:03:50.261082",
     "exception": false,
     "start_time": "2025-05-12T12:03:50.042104",
     "status": "completed"
    },
    "tags": []
   },
   "outputs": [
    {
     "data": {
      "image/png": "[encoded data removed]",
      "text/plain": [
       "<Figure size 1000x800 with 1 Axes>"
      ]
     },
     "metadata": {},
     "output_type": "display_data"
    }
   ],
   "source": [
    "plt.figure(figsize = (10,8))\n",
    "sns.lineplot(data = Paris_listings_over_time [\"neighbourhood\"],\n",
    "            color = \"#00A699\")\n",
    "        \n",
    "plt.title(\" Popularity of AirBnBs over time\")\n",
    "plt.xlabel(\"year\")\n",
    "plt.ylabel(\"Number of AirBnBs activated \")\n",
    "plt.grid()\n",
    "plt.show()"
   ]
  },
  {
   "cell_type": "code",
   "execution_count": 49,
   "id": "b3afbbf2",
   "metadata": {
    "execution": {
     "iopub.execute_input": "2025-05-12T12:03:50.286961Z",
     "iopub.status.busy": "2025-05-12T12:03:50.286713Z",
     "iopub.status.idle": "2025-05-12T12:03:50.492431Z",
     "shell.execute_reply": "2025-05-12T12:03:50.491764Z"
    },
    "papermill": {
     "duration": 0.219951,
     "end_time": "2025-05-12T12:03:50.493609",
     "exception": false,
     "start_time": "2025-05-12T12:03:50.273658",
     "status": "completed"
    },
    "tags": []
   },
   "outputs": [
    {
     "data": {
      "image/png": "[encoded data removed]",
      "text/plain": [
       "<Figure size 1000x800 with 1 Axes>"
      ]
     },
     "metadata": {},
     "output_type": "display_data"
    }
   ],
   "source": [
    "plt.figure(figsize = (10,8))\n",
    "sns.lineplot(data = Paris_listings_over_time [\"price\"],\n",
    "            color = \"#484848\")\n",
    "        \n",
    "plt.title(\" Average price of AirBnBs over time\")\n",
    "plt.xlabel(\"year\")\n",
    "plt.ylabel(\"Average price \")\n",
    "plt.grid()\n",
    "plt.show()"
   ]
  },
  {
   "cell_type": "markdown",
   "id": "502f1a27",
   "metadata": {
    "papermill": {
     "duration": 0.012933,
     "end_time": "2025-05-12T12:03:50.520223",
     "exception": false,
     "start_time": "2025-05-12T12:03:50.507290",
     "status": "completed"
    },
    "tags": []
   },
   "source": [
    "<div style=\"background-color: #f88379; padding: 25px; border-radius: 10px;\">\n",
    "  <h1 style=\"color: #333;\"><strong>Finding effects of Regulations on AirBnB Business</strong></h1>\n",
    "</div>"
   ]
  },
  {
   "cell_type": "code",
   "execution_count": 50,
   "id": "11f00807",
   "metadata": {
    "execution": {
     "iopub.execute_input": "2025-05-12T12:03:50.546993Z",
     "iopub.status.busy": "2025-05-12T12:03:50.546804Z",
     "iopub.status.idle": "2025-05-12T12:03:50.791164Z",
     "shell.execute_reply": "2025-05-12T12:03:50.790512Z"
    },
    "papermill": {
     "duration": 0.259082,
     "end_time": "2025-05-12T12:03:50.792318",
     "exception": false,
     "start_time": "2025-05-12T12:03:50.533236",
     "status": "completed"
    },
    "tags": []
   },
   "outputs": [
    {
     "data": {
      "image/png": "[encoded data removed]",
      "text/plain": [
       "<Figure size 640x480 with 2 Axes>"
      ]
     },
     "metadata": {},
     "output_type": "display_data"
    }
   ],
   "source": [
    "fig , ax = plt.subplots()\n",
    "\n",
    "ax.plot( Paris_listings_over_time.index, Paris_listings_over_time[\"neighbourhood\"], label = \"New Hosts\", c = \"pink\")\n",
    "\n",
    "ax.set_ylabel(\"New Hosts\")\n",
    "\n",
    "ax2 = ax.twinx()\n",
    "\n",
    "ax2.plot( Paris_listings_over_time.index, Paris_listings_over_time[\"price\"], label = \"Average Price\")\n",
    "\n",
    "ax2.set_ylim(0)\n",
    "\n",
    "ax2.set_ylabel(\"Average Price\")\n",
    "\n",
    "ax.set_title(\"Regulations Lead to Fewer New Hosts and Higher Prices\")\n",
    "\n",
    "plt.show()"
   ]
  },
  {
   "cell_type": "markdown",
   "id": "fe9315c2",
   "metadata": {
    "papermill": {
     "duration": 0.013843,
     "end_time": "2025-05-12T12:03:50.820306",
     "exception": false,
     "start_time": "2025-05-12T12:03:50.806463",
     "status": "completed"
    },
    "tags": []
   },
   "source": [
    "<div style=\"background-color: #f88379; padding: 25px; border-radius: 10px;\">\n",
    "  <h1 style=\"color: #333;\"><strong>Final Insights</strong></h1>\n",
    "</div>"
   ]
  },
  {
   "cell_type": "markdown",
   "id": "2d99f98c",
   "metadata": {
    "papermill": {
     "duration": 0.013714,
     "end_time": "2025-05-12T12:03:50.847745",
     "exception": false,
     "start_time": "2025-05-12T12:03:50.834031",
     "status": "completed"
    },
    "tags": []
   },
   "source": [
    "1. The Number of AirBnBs kept on increasing since the launch and prices kept on increasing too, due to initial traction and early adopters.\n",
    "2. After the startup is known to everyone and becomes a common utility, AirBnBs start increasing in numbers and prices also kept on decreasing.\n",
    "3. After regulation was announced around 2015 there was under confidence in the business, number of AirBnBs started decreasing and prices started increasing.\n",
    "4. Once the regulation is the new normal, during the year 2019 the number of AirBnBs have increased in number and prices kept decreasing due to more supply of them."
   ]
  },
  {
   "cell_type": "markdown",
   "id": "5e3802f0",
   "metadata": {
    "papermill": {
     "duration": 0.013908,
     "end_time": "2025-05-12T12:03:50.875613",
     "exception": false,
     "start_time": "2025-05-12T12:03:50.861705",
     "status": "completed"
    },
    "tags": []
   },
   "source": [
    "<div style=\"background-color: #f88379; padding: 25px; border-radius: 10px;\">\n",
    "  <h1 style=\"color: #333;\"><strong>Recommendation for AirBnB</strong></h1>\n",
    "</div>"
   ]
  },
  {
   "cell_type": "markdown",
   "id": "c31bacc6",
   "metadata": {
    "papermill": {
     "duration": 0.014245,
     "end_time": "2025-05-12T12:03:50.904439",
     "exception": false,
     "start_time": "2025-05-12T12:03:50.890194",
     "status": "completed"
    },
    "tags": []
   },
   "source": [
    "1. Regulations in long term rentals can impact the business adversely, there might be customer and hosts churn due to uncertainty.\n",
    "2. Such regulations might add to AirBnBs losses which might be difficult to recover later.\n",
    "3. If the customer experience is going to get impacted due to this, it would lead to incorrect brand perception.\n",
    "4. It is recommended to watch out for any such regulations at other places and be prepared for it.\n",
    "5. AirBnB can replicate such regulations at other places.\n",
    "6. They can keep strict rules to onboard and release the hosts.\n",
    "7. They can limit the number of AirBnBs in a locality to ensure the public has enough rental options and the government doesn't step in."
   ]
  },
  {
   "cell_type": "code",
   "execution_count": null,
   "id": "e9ce55d2",
   "metadata": {
    "papermill": {
     "duration": 0.014197,
     "end_time": "2025-05-12T12:03:50.932645",
     "exception": false,
     "start_time": "2025-05-12T12:03:50.918448",
     "status": "completed"
    },
    "tags": []
   },
   "outputs": [],
   "source": []
  }
 ],
 "metadata": {
  "kaggle": {
   "accelerator": "nvidiaTeslaT4",
   "dataSources": [
    {
     "datasetId": 1530930,
     "sourceId": 2526818,
     "sourceType": "datasetVersion"
    }
   ],
   "dockerImageVersionId": 31011,
   "isGpuEnabled": true,
   "isInternetEnabled": true,
   "language": "python",
   "sourceType": "notebook"
  },
  "kernelspec": {
   "display_name": "Python 3",
   "language": "python",
   "name": "python3"
  },
  "language_info": {
   "codemirror_mode": {
    "name": "ipython",
    "version": 3
   },
   "file_extension": ".py",
   "mimetype": "text/x-python",
   "name": "python",
   "nbconvert_exporter": "python",
   "pygments_lexer": "ipython3",
   "version": "3.11.11"
  },
  "papermill": {
   "default_parameters": {},
   "duration": 19.879559,
   "end_time": "2025-05-12T12:03:51.464339",
   "environment_variables": {},
   "exception": null,
   "input_path": "__notebook__.ipynb",
   "output_path": "__notebook__.ipynb",
   "parameters": {},
   "start_time": "2025-05-12T12:03:31.584780",
   "version": "2.6.0"
  }
 },
 "nbformat": 4,
 "nbformat_minor": 5
}
